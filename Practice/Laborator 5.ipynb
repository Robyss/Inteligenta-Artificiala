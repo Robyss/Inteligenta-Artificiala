{
 "cells": [
  {
   "cell_type": "markdown",
   "metadata": {},
   "source": [
    "## Importuri necesare "
   ]
  },
  {
   "cell_type": "code",
   "execution_count": 29,
   "metadata": {},
   "outputs": [],
   "source": [
    "import os\n",
    "import numpy as np\n",
    "import matplotlib.pyplot as plt"
   ]
  },
  {
   "cell_type": "markdown",
   "metadata": {},
   "source": [
    "## Citirea datelor"
   ]
  },
  {
   "cell_type": "code",
   "execution_count": 30,
   "metadata": {
    "execution": {
     "iopub.execute_input": "2022-10-31T16:27:25.950698Z",
     "iopub.status.busy": "2022-10-31T16:27:25.950306Z",
     "iopub.status.idle": "2022-10-31T16:27:28.535573Z",
     "shell.execute_reply": "2022-10-31T16:27:28.534686Z",
     "shell.execute_reply.started": "2022-10-31T16:27:25.950666Z"
    }
   },
   "outputs": [],
   "source": [
    "import pandas as pd\n",
    "data_path = '../Lab 5/'\n",
    "train_data_df = pd.read_csv(os.path.join(data_path, 'train_data.csv'))"
   ]
  },
  {
   "cell_type": "code",
   "execution_count": 31,
   "metadata": {},
   "outputs": [
    {
     "name": "stdout",
     "output_type": "stream",
     "text": [
      "language\n",
      "text\n",
      "label\n"
     ]
    }
   ],
   "source": [
    "for col in train_data_df.columns:\n",
    "    print(col)"
   ]
  },
  {
   "cell_type": "code",
   "execution_count": 32,
   "metadata": {
    "execution": {
     "iopub.execute_input": "2022-10-31T16:27:36.102869Z",
     "iopub.status.busy": "2022-10-31T16:27:36.101449Z",
     "iopub.status.idle": "2022-10-31T16:27:36.132833Z",
     "shell.execute_reply": "2022-10-31T16:27:36.131645Z",
     "shell.execute_reply.started": "2022-10-31T16:27:36.102818Z"
    }
   },
   "outputs": [
    {
     "data": {
      "text/html": [
       "<div>\n",
       "<style scoped>\n",
       "    .dataframe tbody tr th:only-of-type {\n",
       "        vertical-align: middle;\n",
       "    }\n",
       "\n",
       "    .dataframe tbody tr th {\n",
       "        vertical-align: top;\n",
       "    }\n",
       "\n",
       "    .dataframe thead th {\n",
       "        text-align: right;\n",
       "    }\n",
       "</style>\n",
       "<table border=\"1\" class=\"dataframe\">\n",
       "  <thead>\n",
       "    <tr style=\"text-align: right;\">\n",
       "      <th></th>\n",
       "      <th>language</th>\n",
       "      <th>text</th>\n",
       "      <th>label</th>\n",
       "    </tr>\n",
       "  </thead>\n",
       "  <tbody>\n",
       "    <tr>\n",
       "      <th>0</th>\n",
       "      <td>dansk</td>\n",
       "      <td>\\nDette er et fremragende initiativ, og jeg st...</td>\n",
       "      <td>Ireland</td>\n",
       "    </tr>\n",
       "    <tr>\n",
       "      <th>1</th>\n",
       "      <td>dansk</td>\n",
       "      <td>\\nHr. formand, jeg er sikker på, at alle her e...</td>\n",
       "      <td>Ireland</td>\n",
       "    </tr>\n",
       "    <tr>\n",
       "      <th>2</th>\n",
       "      <td>dansk</td>\n",
       "      <td>\\nHr. formand, folk på den nordlige halvkugle ...</td>\n",
       "      <td>England</td>\n",
       "    </tr>\n",
       "    <tr>\n",
       "      <th>3</th>\n",
       "      <td>dansk</td>\n",
       "      <td>\\nHr. formand, med forbehold af nogle få ændri...</td>\n",
       "      <td>England</td>\n",
       "    </tr>\n",
       "    <tr>\n",
       "      <th>4</th>\n",
       "      <td>dansk</td>\n",
       "      <td>\\n\\n   - Hr. formand, jeg må protestere mod de...</td>\n",
       "      <td>England</td>\n",
       "    </tr>\n",
       "    <tr>\n",
       "      <th>...</th>\n",
       "      <td>...</td>\n",
       "      <td>...</td>\n",
       "      <td>...</td>\n",
       "    </tr>\n",
       "    <tr>\n",
       "      <th>41565</th>\n",
       "      <td>Nederlands</td>\n",
       "      <td>\\nMijnheer de Voorzitter, juridisch gezien is ...</td>\n",
       "      <td>England</td>\n",
       "    </tr>\n",
       "    <tr>\n",
       "      <th>41566</th>\n",
       "      <td>Nederlands</td>\n",
       "      <td>\\n\\n   .  Mijnheer de Voorzitter, het is niet ...</td>\n",
       "      <td>Scotland</td>\n",
       "    </tr>\n",
       "    <tr>\n",
       "      <th>41567</th>\n",
       "      <td>Nederlands</td>\n",
       "      <td>\\nAls afgevaardigde van Ierland, het 'voedsele...</td>\n",
       "      <td>Ireland</td>\n",
       "    </tr>\n",
       "    <tr>\n",
       "      <th>41568</th>\n",
       "      <td>Nederlands</td>\n",
       "      <td>\\nMijnheer de Voorzitter, het is niet onterech...</td>\n",
       "      <td>England</td>\n",
       "    </tr>\n",
       "    <tr>\n",
       "      <th>41569</th>\n",
       "      <td>Nederlands</td>\n",
       "      <td>\\n\\n   - Stelt u zich voor dat een ander wetge...</td>\n",
       "      <td>Ireland</td>\n",
       "    </tr>\n",
       "  </tbody>\n",
       "</table>\n",
       "<p>41570 rows × 3 columns</p>\n",
       "</div>"
      ],
      "text/plain": [
       "         language                                               text     label\n",
       "0           dansk  \\nDette er et fremragende initiativ, og jeg st...   Ireland\n",
       "1           dansk  \\nHr. formand, jeg er sikker på, at alle her e...   Ireland\n",
       "2           dansk  \\nHr. formand, folk på den nordlige halvkugle ...   England\n",
       "3           dansk  \\nHr. formand, med forbehold af nogle få ændri...   England\n",
       "4           dansk  \\n\\n   - Hr. formand, jeg må protestere mod de...   England\n",
       "...           ...                                                ...       ...\n",
       "41565  Nederlands  \\nMijnheer de Voorzitter, juridisch gezien is ...   England\n",
       "41566  Nederlands  \\n\\n   .  Mijnheer de Voorzitter, het is niet ...  Scotland\n",
       "41567  Nederlands  \\nAls afgevaardigde van Ierland, het 'voedsele...   Ireland\n",
       "41568  Nederlands  \\nMijnheer de Voorzitter, het is niet onterech...   England\n",
       "41569  Nederlands  \\n\\n   - Stelt u zich voor dat een ander wetge...   Ireland\n",
       "\n",
       "[41570 rows x 3 columns]"
      ]
     },
     "execution_count": 32,
     "metadata": {},
     "output_type": "execute_result"
    }
   ],
   "source": [
    "train_data_df"
   ]
  },
  {
   "cell_type": "code",
   "execution_count": 33,
   "metadata": {
    "execution": {
     "iopub.execute_input": "2022-10-31T16:28:12.191575Z",
     "iopub.status.busy": "2022-10-31T16:28:12.191162Z",
     "iopub.status.idle": "2022-10-31T16:28:12.200415Z",
     "shell.execute_reply": "2022-10-31T16:28:12.199541Z",
     "shell.execute_reply.started": "2022-10-31T16:28:12.191542Z"
    }
   },
   "outputs": [
    {
     "name": "stdout",
     "output_type": "stream",
     "text": [
      "Distributia etichetelor in datele de antrenare \n",
      " England     22700\n",
      "Ireland     10535\n",
      "Scotland     8335\n",
      "Name: label, dtype: int64\n"
     ]
    }
   ],
   "source": [
    "print('Distributia etichetelor in datele de antrenare \\n', train_data_df['label'].value_counts())"
   ]
  },
  {
   "cell_type": "code",
   "execution_count": 34,
   "metadata": {
    "execution": {
     "iopub.execute_input": "2022-10-31T16:28:33.803930Z",
     "iopub.status.busy": "2022-10-31T16:28:33.803511Z",
     "iopub.status.idle": "2022-10-31T16:28:33.814063Z",
     "shell.execute_reply": "2022-10-31T16:28:33.812941Z",
     "shell.execute_reply.started": "2022-10-31T16:28:33.803894Z"
    }
   },
   "outputs": [
    {
     "data": {
      "text/plain": [
       "dansk         8314\n",
       "Deutsch       8314\n",
       "español       8314\n",
       "italiano      8314\n",
       "Nederlands    8314\n",
       "Name: language, dtype: int64"
      ]
     },
     "execution_count": 34,
     "metadata": {},
     "output_type": "execute_result"
    }
   ],
   "source": [
    "# fiecare limba este reprezentata in mod egal\n",
    "train_data_df['language'].value_counts()"
   ]
  },
  {
   "cell_type": "markdown",
   "metadata": {},
   "source": [
    "## Codificarea etichetelor din string in int"
   ]
  },
  {
   "cell_type": "code",
   "execution_count": 35,
   "metadata": {
    "execution": {
     "iopub.execute_input": "2022-10-31T16:37:06.903261Z",
     "iopub.status.busy": "2022-10-31T16:37:06.902305Z",
     "iopub.status.idle": "2022-10-31T16:37:06.915608Z",
     "shell.execute_reply": "2022-10-31T16:37:06.914456Z",
     "shell.execute_reply.started": "2022-10-31T16:37:06.903221Z"
    }
   },
   "outputs": [
    {
     "name": "stdout",
     "output_type": "stream",
     "text": [
      "['Ireland' 'England' 'Scotland']\n",
      "{'Ireland': 0, 'England': 1, 'Scotland': 2}\n",
      "{0: 'Ireland', 1: 'England', 2: 'Scotland'}\n"
     ]
    }
   ],
   "source": [
    "#Exercitiu: codificam etichetele / labels in valori cu numere intregi de la 0 la N\n",
    "# codificam etichetele / labels in valori cu numere intregi dela 0 la N\n",
    "# ar putea fi exercitiu la clasa ca sa se obisnuiasca cu dictionare\n",
    "etichete_unice = train_data_df['label'].unique()\n",
    "print(etichete_unice)\n",
    "label2id = {}\n",
    "id2label = {}\n",
    "for idx, eticheta in enumerate(etichete_unice):\n",
    "    label2id[eticheta] = idx\n",
    "    id2label[idx] = eticheta\n",
    "\n",
    "print(label2id)\n",
    "print(id2label)"
   ]
  },
  {
   "cell_type": "code",
   "execution_count": 36,
   "metadata": {
    "execution": {
     "iopub.execute_input": "2022-10-31T16:37:25.860962Z",
     "iopub.status.busy": "2022-10-31T16:37:25.860576Z",
     "iopub.status.idle": "2022-10-31T16:37:25.882859Z",
     "shell.execute_reply": "2022-10-31T16:37:25.881977Z",
     "shell.execute_reply.started": "2022-10-31T16:37:25.860928Z"
    }
   },
   "outputs": [
    {
     "name": "stdout",
     "output_type": "stream",
     "text": [
      "[0, 0, 1, 1, 1, 0, 1, 1, 1, 2]\n"
     ]
    }
   ],
   "source": [
    "#Exercitiu: aplicati dictionarul label2id peste toate etichetele din train\n",
    "labels = []\n",
    "\n",
    "for i in train_data_df['label']:\n",
    "    labels.append(label2id[i])\n",
    "\n",
    "print(labels[:10])"
   ]
  },
  {
   "cell_type": "markdown",
   "metadata": {},
   "source": [
    "## Pre-procesarea datelor\n",
    "\n",
    "- extragem informațiile necesare din text\n",
    "- eliminăm semnele de punctuație\n",
    "- facem tokenizare (împărțire în cuvinte)\n",
    "- vezi tokenizatori in [NLTK](https://www.nltk.org/api/nltk.tokenize.html)\n",
    "- vezi tokenizatori in [spaCy](https://spacy.io/)\n",
    "- vezi tokenizatori precum [BPE, WordPiece, SentencePiece](https://huggingface.co/docs/transformers/tokenizer_summary)"
   ]
  },
  {
   "cell_type": "code",
   "execution_count": 37,
   "metadata": {
    "execution": {
     "iopub.execute_input": "2022-10-31T16:31:48.254624Z",
     "iopub.status.busy": "2022-10-31T16:31:48.254258Z",
     "iopub.status.idle": "2022-10-31T16:31:48.269735Z",
     "shell.execute_reply": "2022-10-31T16:31:48.268568Z",
     "shell.execute_reply.started": "2022-10-31T16:31:48.254595Z"
    }
   },
   "outputs": [
    {
     "name": "stdout",
     "output_type": "stream",
     "text": [
      "       language                                               text     label\n",
      "24942  italiano  \\nSi tratta di un'eccellente iniziativa e cond...   Ireland\n",
      "24943  italiano  \\nSignor Presidente, tutti i presenti sanno ce...   Ireland\n",
      "24944  italiano  \\nSignor Presidente, nel Nord del mondo si pen...   England\n",
      "24945  italiano  \\nSignor Presidente, fatti salvi alcuni emenda...   England\n",
      "24946  italiano  \\n\\n   – Signor Presidente, desidero protestar...   England\n",
      "...         ...                                                ...       ...\n",
      "33251  italiano  \\nSignor Presidente, l' obiettivo giuridico de...   England\n",
      "33252  italiano  \\n\\n    Signor Presidente, non spetta a me tog...  Scotland\n",
      "33253  italiano  \\nVenendo dall'Irlanda, l'\"isola del cibo\", so...   Ireland\n",
      "33254  italiano  \\nSignor Presidente, è opportuno che io interv...   England\n",
      "33255  italiano  \\n\\n   – E’ d’accordo il Presidente in carica ...   Ireland\n",
      "\n",
      "[8314 rows x 3 columns]\n"
     ]
    }
   ],
   "source": [
    "import re\n",
    "\n",
    "def proceseaza(text):\n",
    "    \"\"\"Functie simpla de procesare a textului.\n",
    "    Sugestii:\n",
    "    - cum procesati \\n new lines? (vezi functia strip())\n",
    "    - cum procesati empty token ''\n",
    "    - puteti introduce un tokenizator din nltk\n",
    "        https://www.nltk.org/api/nltk.tokenize.html\n",
    "    - puteti elimina sau pastra doar stop-words\n",
    "    \"\"\"\n",
    "    text = re.sub(\"[-.,;:!?\\\"\\'\\/()_*=`]\", \"\", text)\n",
    "    text_in_cuvinte = text.strip().split(' ')\n",
    "    return text_in_cuvinte\n",
    "\n",
    "# cuvintele rezultate din functia de preprocesare:\n",
    "exemple_italian = train_data_df[train_data_df['language'] == 'italiano']\n",
    "print(exemple_italian)\n"
   ]
  },
  {
   "cell_type": "code",
   "execution_count": 38,
   "metadata": {
    "execution": {
     "iopub.execute_input": "2022-10-31T16:31:46.130545Z",
     "iopub.status.busy": "2022-10-31T16:31:46.130178Z",
     "iopub.status.idle": "2022-10-31T16:31:46.136427Z",
     "shell.execute_reply": "2022-10-31T16:31:46.135303Z",
     "shell.execute_reply.started": "2022-10-31T16:31:46.130516Z"
    }
   },
   "outputs": [
    {
     "name": "stdout",
     "output_type": "stream",
     "text": [
      "['Si', 'tratta', 'di', 'uneccellente', 'iniziativa', 'e', 'condivido', 'totalmente', 'lobiettivo', 'di', 'mettere', 'in', 'rilievo']\n"
     ]
    }
   ],
   "source": [
    "text_italian = exemple_italian['text'].iloc[0]\n",
    "print(proceseaza(text_italian)[:13])"
   ]
  },
  {
   "cell_type": "markdown",
   "metadata": {},
   "source": [
    "### Aplicam functia de preprocesarea intregului set de date"
   ]
  },
  {
   "cell_type": "code",
   "execution_count": 39,
   "metadata": {
    "execution": {
     "iopub.execute_input": "2022-10-31T16:33:58.075092Z",
     "iopub.status.busy": "2022-10-31T16:33:58.074679Z",
     "iopub.status.idle": "2022-10-31T16:34:00.956559Z",
     "shell.execute_reply": "2022-10-31T16:34:00.955459Z",
     "shell.execute_reply.started": "2022-10-31T16:33:58.075063Z"
    }
   },
   "outputs": [
    {
     "name": "stdout",
     "output_type": "stream",
     "text": [
      "['Dette', 'er', 'et', 'fremragende', 'initiativ', 'og', 'jeg', 'støtter', 'fuldt', 'ud', 'målet', 'om', 'at', 'fremhæve', 'idrættens', 'pædagogiske', 'rolle', 'Der', 'kan', 'opnås', 'store', 'fordele', 'ved', 'at', 'etablere', 'partnerskaber', 'mellem', 'undervisningssektorens', 'og', 'idrættens', 'organisationer\\n\\nSom', 'irsk', 'medlem', 'er', 'jeg', 'specielt', 'glad', 'for', 'at', 'forslaget', 'går', 'ud', 'på', 'at', 'dedikere', '2004', 'til', 'Idrættens', 'Pædagogiske', 'Dimension', 'Det', 'falder', 'sammen', 'med', 'det', 'irske', 'formandskab', 'i', 'første', 'halvdel', 'af', '2004', 'og', 'jeg', 'kan', 'forsikre', 'mine', 'kolleger', 'om', 'at', 'Irland', 'vil', 'spille', 'en', 'fremtrædende', 'rolle', 'i', 'mange', 'af', 'de', 'planlagte', 'initiativer', 'Irland', 'har', 'en', 'lang', 'tradition', 'for', 'sport', 'særligt', 'på', 'amatør', 'og', 'frivillig', 'basis\\n\\nVi', 'er', 'alle', 'klar', 'over', 'at', 'en', 'række', 'store', 'sportsbegivenheder', 'løber', 'af', 'stabelen', 'i', '2004', 'Der', 'afholdes', 'EM', 'i', 'fodbold', 'og', 'olympiske', 'og', 'paraolympiske', 'lege', 'i', 'Athen', 'I', 'forslaget', 'anses', '2003', 'for', 'at', 'være', 'et', 'forberedende', 'år', 'med', 'visse', 'aktiviteter', 'der', 'indtræder', 'med', 'det', 'akademiske', 'år', '20032004\\n\\nIrland', 'er', 'vært', 'for', 'Special', 'Olympics', 'i', '2003', 'og', 'EUs', 'bidrag', 'til', 'organiseringen', 'af', 'disse', 'lege', 'er', 'værd', 'at', 'rose', 'For', 'atleterne', 'fra', 'de', '160', 'internationale', 'delegationer', 'verden', 'over', 'er', 'dette', 'en', 'enestående', 'sportslig', 'og', 'kulturel', 'begivenhed']\n"
     ]
    }
   ],
   "source": [
    "# Exercitiu: aplicati functia pe fiecare exemplu de antrenare\n",
    "data = []\n",
    "\n",
    "for text in train_data_df['text']:\n",
    "    data.append(proceseaza(text))\n",
    "\n",
    "print(data[0])"
   ]
  },
  {
   "cell_type": "markdown",
   "metadata": {},
   "source": [
    "## Împărțirea datelor în train, validare și test\n",
    "\n",
    "O împărțire brutală poate fi cea în funcție de ordinea în care apar datele.\n",
    "- cum poate afecat acest tip de împărțire rezultatele dacă datele sunt sortate după etichetă?"
   ]
  },
  {
   "cell_type": "code",
   "execution_count": 40,
   "metadata": {
    "execution": {
     "iopub.execute_input": "2022-10-31T16:36:07.168300Z",
     "iopub.status.busy": "2022-10-31T16:36:07.167068Z",
     "iopub.status.idle": "2022-10-31T16:36:07.178506Z",
     "shell.execute_reply": "2022-10-31T16:36:07.177396Z",
     "shell.execute_reply.started": "2022-10-31T16:36:07.168251Z"
    }
   },
   "outputs": [
    {
     "name": "stdout",
     "output_type": "stream",
     "text": [
      "41570\n",
      "Nr de date de test:  8314\n",
      "Nr de date de validare:  4988\n",
      "Nr de date de antrenare:  28268\n"
     ]
    }
   ],
   "source": [
    "print(len(data))\n",
    "\n",
    "# putem imparti datele de antrenare astfel:\n",
    "# 20% date de test din total \n",
    "# 15% date de validare din ce ramane dupa ce scoatem datele de test \n",
    "\n",
    "nr_test = int(20/100 * len(train_data_df))\n",
    "print(\"Nr de date de test: \", nr_test)\n",
    "\n",
    "nr_ramase = len(data) - nr_test\n",
    "nr_valid = int(15/100 * nr_ramase)\n",
    "print(\"Nr de date de validare: \", nr_valid)\n",
    "\n",
    "nr_train = nr_ramase - nr_valid\n",
    "print(\"Nr de date de antrenare: \", nr_train)\n",
    "\n"
   ]
  },
  {
   "cell_type": "code",
   "execution_count": 41,
   "metadata": {
    "execution": {
     "iopub.execute_input": "2022-10-31T16:38:49.750074Z",
     "iopub.status.busy": "2022-10-31T16:38:49.749686Z",
     "iopub.status.idle": "2022-10-31T16:38:49.758322Z",
     "shell.execute_reply": "2022-10-31T16:38:49.757276Z",
     "shell.execute_reply.started": "2022-10-31T16:38:49.750039Z"
    }
   },
   "outputs": [
    {
     "name": "stdout",
     "output_type": "stream",
     "text": [
      "Nr de exemple de train 28268\n",
      "Nr de exemple de validare 4988\n",
      "Nr de exemple de test 8314\n"
     ]
    }
   ],
   "source": [
    "# facem impartirea in ordinea in care apar datele\n",
    "\n",
    "train_data = data[:nr_train]\n",
    "train_labels = labels[:nr_train]\n",
    "\n",
    "valid_data = data[nr_train : nr_train + nr_valid]\n",
    "valid_labels = labels[nr_train : nr_train + nr_valid]\n",
    "\n",
    "test_data = data[nr_train + nr_valid: ]\n",
    "test_labels = labels[nr_train + nr_valid:]\n",
    "\n",
    "\n",
    "print(f'Nr de exemple de train {len(train_labels)}')\n",
    "print(f'Nr de exemple de validare {len(valid_labels)}')\n",
    "print(f'Nr de exemple de test {len(test_labels)}')"
   ]
  },
  {
   "cell_type": "code",
   "execution_count": 42,
   "metadata": {},
   "outputs": [],
   "source": [
    "#Exercitiu: vedeti cum sunt distribuite etichetele in train, valid, test (incercati bincount)\n",
    "\n",
    "# sklearn train_test_split"
   ]
  },
  {
   "cell_type": "markdown",
   "metadata": {},
   "source": [
    "## Bag of Words\n",
    "\n",
    "În cadrul acestei secțiuni vom face numărarea aparițiilor tuturor cuvintelor din datele noastre. Pentru o evaluare justă nu ar fi indicat să includem si cuvintele din datele de test."
   ]
  },
  {
   "cell_type": "code",
   "execution_count": 43,
   "metadata": {
    "execution": {
     "iopub.execute_input": "2022-10-31T16:39:41.756052Z",
     "iopub.status.busy": "2022-10-31T16:39:41.755637Z",
     "iopub.status.idle": "2022-10-31T16:39:41.765985Z",
     "shell.execute_reply": "2022-10-31T16:39:41.764846Z",
     "shell.execute_reply.started": "2022-10-31T16:39:41.756018Z"
    }
   },
   "outputs": [
    {
     "name": "stdout",
     "output_type": "stream",
     "text": [
      "Counter({'eggs': 2, 'ham': 1, 'egg': 1})\n",
      "0\n",
      "2\n",
      "1\n",
      "0\n"
     ]
    }
   ],
   "source": [
    "from collections import Counter\n",
    "\n",
    "# vom folosi o structura de date nativa din python\n",
    "# care functioneaza ca un dictionar care numara elementele hashable\n",
    "# dintr-o colectie\n",
    "ctr = Counter(['eggs', 'ham', 'eggs', 'egg'])\n",
    "print(ctr)\n",
    "print(ctr['bacon'])\n",
    "print(ctr['eggs'])\n",
    "\n",
    "ctr = Counter([(0,1), (0,0), (0,1)])\n",
    "print(ctr[(0,0)])\n",
    "print(ctr[(2,2)])\n"
   ]
  },
  {
   "cell_type": "code",
   "execution_count": 44,
   "metadata": {
    "execution": {
     "iopub.execute_input": "2022-10-31T16:39:48.911996Z",
     "iopub.status.busy": "2022-10-31T16:39:48.910673Z",
     "iopub.status.idle": "2022-10-31T16:39:48.918363Z",
     "shell.execute_reply": "2022-10-31T16:39:48.917084Z",
     "shell.execute_reply.started": "2022-10-31T16:39:48.911953Z"
    }
   },
   "outputs": [
    {
     "name": "stdout",
     "output_type": "stream",
     "text": [
      "dict_keys(['Ich', 'habe', 'gegen', 'diesen', 'Bericht', 'gestimmt', 'um', 'dem', 'Ausschuss', 'für', 'Haushaltskontrolle', 'mehr', 'Zeit', 'zu', 'geben', 'untersuchen', 'ob', 'Parlament', 'seine', 'Gebäude', 'in', 'Straßburg', 'viel', 'berechnet', 'wurde', 'Es', 'ist', 'unbedingt', 'erforderlich', 'dass', 'diese', 'höchst', 'unbefriedigende', 'Angelegenheit', 'umfassend', 'untersucht', 'wird', 'Das', 'muss', 'alles', 'seiner', 'Macht', 'Stehende', 'tun', 'das', 'Geld', 'der', 'Steuerzahler', 'schützen'])\n",
      "dict_values([1, 1, 1, 1, 1, 1, 2, 2, 1, 2, 1, 1, 1, 4, 1, 1, 1, 2, 1, 1, 2, 1, 1, 1, 1, 1, 1, 1, 1, 1, 1, 1, 1, 1, 1, 1, 1, 1, 1, 1, 1, 1, 1, 1, 1, 1, 1, 1, 1])\n"
     ]
    }
   ],
   "source": [
    "ctr = Counter(data[9234])\n",
    "print(ctr.keys())\n",
    "print(ctr.values())\n",
    "# care este cel mai frecvent cuvant in data[5]?"
   ]
  },
  {
   "cell_type": "markdown",
   "metadata": {},
   "source": [
    "### Frecventa cuvintelor din setul de antrenare"
   ]
  },
  {
   "cell_type": "code",
   "execution_count": 45,
   "metadata": {
    "execution": {
     "iopub.execute_input": "2022-10-31T16:40:19.915876Z",
     "iopub.status.busy": "2022-10-31T16:40:19.915461Z",
     "iopub.status.idle": "2022-10-31T16:40:21.605067Z",
     "shell.execute_reply": "2022-10-31T16:40:21.604048Z",
     "shell.execute_reply.started": "2022-10-31T16:40:19.915842Z"
    }
   },
   "outputs": [
    {
     "name": "stdout",
     "output_type": "stream",
     "text": [
      "[('de', 182565), ('la', 115758), ('der', 96800), ('que', 96475), ('en', 94038), ('die', 79963), ('at', 78111), ('a', 64202), ('i', 63742), ('og', 60776)]\n"
     ]
    }
   ],
   "source": [
    "counter = Counter()\n",
    "\n",
    "for cuvinte in train_data:\n",
    "    counter.update(cuvinte)\n",
    "\n",
    "print(counter.most_common(10))\n"
   ]
  },
  {
   "cell_type": "markdown",
   "metadata": {},
   "source": [
    "### Reprezentarea datelor sub forma vectoriala\n",
    "\n",
    "- sa presupunem ca folosim primele N cuvinte non-nule ca caracteristici pentru fiecare text\n"
   ]
  },
  {
   "cell_type": "code",
   "execution_count": 46,
   "metadata": {
    "execution": {
     "iopub.execute_input": "2022-10-31T16:40:59.090268Z",
     "iopub.status.busy": "2022-10-31T16:40:59.089897Z",
     "iopub.status.idle": "2022-10-31T16:40:59.165967Z",
     "shell.execute_reply": "2022-10-31T16:40:59.164852Z",
     "shell.execute_reply.started": "2022-10-31T16:40:59.090241Z"
    }
   },
   "outputs": [
    {
     "name": "stdout",
     "output_type": "stream",
     "text": [
      "['de', 'la', 'der', 'que', 'en', 'die', 'at', 'a', 'i', 'og']\n"
     ]
    }
   ],
   "source": [
    "N = 10\n",
    "cuvinte_caracteristice = []\n",
    "for cuvant, frecventa in counter.most_common(N):\n",
    "    if cuvant.strip():\n",
    "        cuvinte_caracteristice.append(cuvant)\n",
    "print(cuvinte_caracteristice)"
   ]
  },
  {
   "cell_type": "markdown",
   "metadata": {},
   "source": [
    "- fiecarui cuvant îi atribuim un id în funcție de poziția pe care se află\n",
    "- ordinea in care sunt stocate cheile intr-un dictionar este arbitrara \n",
    "- iar o lista este un obiect mutabil in care ordinea elementelor se poate schimba oricand\n",
    "- cel mai sigur este sa construim o mapare intre cuvinte si un id care sa reprezinte pozitia in vectorul de caracteristici\n"
   ]
  },
  {
   "cell_type": "code",
   "execution_count": 47,
   "metadata": {
    "execution": {
     "iopub.execute_input": "2022-10-31T16:41:16.241249Z",
     "iopub.status.busy": "2022-10-31T16:41:16.240844Z",
     "iopub.status.idle": "2022-10-31T16:41:16.248211Z",
     "shell.execute_reply": "2022-10-31T16:41:16.246873Z",
     "shell.execute_reply.started": "2022-10-31T16:41:16.241219Z"
    }
   },
   "outputs": [
    {
     "name": "stdout",
     "output_type": "stream",
     "text": [
      "{'de': 0, 'la': 1, 'der': 2, 'que': 3, 'en': 4, 'die': 5, 'at': 6, 'a': 7, 'i': 8, 'og': 9}\n",
      "{0: 'de', 1: 'la', 2: 'der', 3: 'que', 4: 'en', 5: 'die', 6: 'at', 7: 'a', 8: 'i', 9: 'og'}\n"
     ]
    }
   ],
   "source": [
    "word2id = {}\n",
    "id2word = {}\n",
    "for idx, cuv in enumerate(cuvinte_caracteristice):\n",
    "    word2id[cuv] = idx\n",
    "    id2word[idx] = cuv\n",
    "\n",
    "print(word2id)\n",
    "print(id2word)"
   ]
  },
  {
   "cell_type": "markdown",
   "metadata": {},
   "source": [
    "- cand trebuie sa reprezentam un text sub forma vectoriala, ne raportam doar la cuvintele cheie pe care le folosim ca caracteristici\n",
    "- id-ul reprezinta pozitia in vector unde vom stoca aparitiile fiecarui cuvant"
   ]
  },
  {
   "cell_type": "code",
   "execution_count": 48,
   "metadata": {
    "execution": {
     "iopub.execute_input": "2022-10-31T16:43:12.455161Z",
     "iopub.status.busy": "2022-10-31T16:43:12.454712Z",
     "iopub.status.idle": "2022-10-31T16:43:12.463672Z",
     "shell.execute_reply": "2022-10-31T16:43:12.462438Z",
     "shell.execute_reply.started": "2022-10-31T16:43:12.455127Z"
    }
   },
   "outputs": [
    {
     "name": "stdout",
     "output_type": "stream",
     "text": [
      "[4. 0. 5. 0. 9. 0. 4. 0. 3. 9.]\n",
      "['de', 'la', 'der', 'que', 'en', 'die', 'at', 'a', 'i', 'og']\n"
     ]
    }
   ],
   "source": [
    "# 1. numaram toate cuvintele din text\n",
    "ctr = Counter(train_data[1])\n",
    "\n",
    "# 2. prealocam un array care va reprezenta caracteristicel noastre\n",
    "features = np.zeros(len(cuvinte_caracteristice))\n",
    "\n",
    "# 3. umplem array-ul cu valorile obtinute din counter\n",
    "# fiecare pozitie din array trebuie sa reprezinte frecventa\n",
    "# aceluiasi cuvant in toate textele\n",
    "for idx in range(0, len(features)):\n",
    "    # obtinem cuvantul pentru pozitia idx\n",
    "    cuvant = id2word[idx]\n",
    "    # asignam valoarea corespunzatoare frecventei cuvantului\n",
    "    features[idx] = ctr[cuvant]\n",
    "\n",
    "print(features)\n",
    "print([id2word[idx] for idx in range(0, len(features))])"
   ]
  },
  {
   "cell_type": "markdown",
   "metadata": {},
   "source": [
    "### Punem totul cap la cap sub forma de functii"
   ]
  },
  {
   "cell_type": "code",
   "execution_count": 49,
   "metadata": {
    "execution": {
     "iopub.execute_input": "2022-10-31T16:44:25.001764Z",
     "iopub.status.busy": "2022-10-31T16:44:25.000587Z",
     "iopub.status.idle": "2022-10-31T16:44:25.007234Z",
     "shell.execute_reply": "2022-10-31T16:44:25.006391Z",
     "shell.execute_reply.started": "2022-10-31T16:44:25.001724Z"
    }
   },
   "outputs": [],
   "source": [
    "def count_most_common(how_many, texte_preprocesate):\n",
    "    \"\"\"Functie care returneaza cele mai frecvente cuvinte.\n",
    "    \"\"\"\n",
    "    \n",
    "    for cuvinte in texte_preprocesate:\n",
    "        counter.update(cuvinte)\n",
    "        \n",
    "    cuvinte_caracteristice = []\n",
    "    for cuvant, frecventa in counter.most_common(how_many):\n",
    "        if cuvant.strip():\n",
    "            cuvinte_caracteristice.append(cuvant)\n",
    "\n",
    "    return cuvinte_caracteristice"
   ]
  },
  {
   "cell_type": "code",
   "execution_count": 50,
   "metadata": {
    "execution": {
     "iopub.execute_input": "2022-10-31T16:44:26.320064Z",
     "iopub.status.busy": "2022-10-31T16:44:26.319633Z",
     "iopub.status.idle": "2022-10-31T16:44:26.326731Z",
     "shell.execute_reply": "2022-10-31T16:44:26.325621Z",
     "shell.execute_reply.started": "2022-10-31T16:44:26.320030Z"
    }
   },
   "outputs": [],
   "source": [
    "def build_id_word_dicts(cuvinte_caracteristice):\n",
    "    '''Dictionarele word2id si id2word garanteaza o ordine\n",
    "    pentru cuvintele caracteristice.\n",
    "    '''\n",
    "    word2id = {}\n",
    "    id2word = {}\n",
    "    for idx, cuv in enumerate(cuvinte_caracteristice):\n",
    "        word2id[cuv] = idx\n",
    "        id2word[idx] = cuv\n",
    "\n",
    "    return word2id, id2word"
   ]
  },
  {
   "cell_type": "code",
   "execution_count": 51,
   "metadata": {
    "execution": {
     "iopub.execute_input": "2022-10-31T16:44:28.195074Z",
     "iopub.status.busy": "2022-10-31T16:44:28.194682Z",
     "iopub.status.idle": "2022-10-31T16:44:28.201329Z",
     "shell.execute_reply": "2022-10-31T16:44:28.200113Z",
     "shell.execute_reply.started": "2022-10-31T16:44:28.195042Z"
    }
   },
   "outputs": [],
   "source": [
    "def featurize(text_preprocesat, id2word):\n",
    "    \"\"\"Pentru un text preprocesat dat si un dictionar\n",
    "    care mapeaza pentru fiecare pozitie ce cuvant corespunde,\n",
    "    returneaza un vector care reprezinta\n",
    "    frecventele fiecarui cuvant.\n",
    "    \"\"\"\n",
    "    ctr = Counter(text_preprocesat)\n",
    "    features = np.zeros(len(id2word))\n",
    "    \n",
    "    for idx in range(0, len(features)):\n",
    "        # obtinem cuvantul pentru pozitia idx\n",
    "        cuvant = id2word[idx]\n",
    "        # asignam valoarea corespunzatoare frecventei cuvantului\n",
    "        features[idx] = ctr[cuvant]\n",
    "\n",
    "    return features"
   ]
  },
  {
   "cell_type": "code",
   "execution_count": 52,
   "metadata": {
    "execution": {
     "iopub.execute_input": "2022-10-31T16:44:29.849778Z",
     "iopub.status.busy": "2022-10-31T16:44:29.849421Z",
     "iopub.status.idle": "2022-10-31T16:44:29.855876Z",
     "shell.execute_reply": "2022-10-31T16:44:29.854694Z",
     "shell.execute_reply.started": "2022-10-31T16:44:29.849749Z"
    }
   },
   "outputs": [],
   "source": [
    "def featurize_multi(texte, id2word):\n",
    "    '''Pentru un set de texte preprocesate si un dictionar\n",
    "    care mapeaza pentru fiecare pozitie ce cuvant corespunde,\n",
    "    returneaza matricea trasaturilor tuturor textelor.\n",
    "    '''\n",
    "    all_features = []\n",
    "    for text in texte:\n",
    "        all_features.append(featurize(text, id2word))\n",
    "    return np.array(all_features)"
   ]
  },
  {
   "cell_type": "code",
   "execution_count": 53,
   "metadata": {},
   "outputs": [
    {
     "name": "stdout",
     "output_type": "stream",
     "text": [
      "['de', 'la', 'der', 'que', 'en', 'die', 'at', 'a', 'i', 'og', 'und', 'y', 'el', 'in', 'er', 'den', 'los', 'for', 'af', 'til']\n"
     ]
    }
   ],
   "source": [
    "cuvinte_caracteristice = count_most_common(20, train_data)\n",
    "print(cuvinte_caracteristice)"
   ]
  },
  {
   "cell_type": "code",
   "execution_count": 58,
   "metadata": {
    "execution": {
     "iopub.execute_input": "2022-10-31T16:44:49.155909Z",
     "iopub.status.busy": "2022-10-31T16:44:49.155220Z",
     "iopub.status.idle": "2022-10-31T16:44:52.360593Z",
     "shell.execute_reply": "2022-10-31T16:44:52.358972Z",
     "shell.execute_reply.started": "2022-10-31T16:44:49.155871Z"
    }
   },
   "outputs": [
    {
     "name": "stdout",
     "output_type": "stream",
     "text": [
      "99\n",
      "['de', 'la', 'der', 'que', 'en', 'die', 'at', 'a', 'i', 'og', 'und', 'y', 'el', 'in', 'er', 'den', 'los', 'for', 'af', 'til', 'del', 'di', 'det', 'un', 'es', 'las', 'zu', 'se', 'una', 'på', 'om', 'con', 'har', 'che', 'e', 'von', 'som', 'ikke', 'vi', 'für', 'med', 'para', 'no', 'ist', 'dass', 'por', 'wir', 'nicht', 'al', 'das', 'vil', 'auf', 'ha', 'jeg', 'et', 'il', 'eine', 'des', 'ich', 'dem', 'werden', 'mit', 'per', 'im', 'Det', 'lo', 'su', 'sich', 'kan', 'ein', 'Jeg', 'daß', 'wird', 'Ich', 'si', 'alle', 'sobre', 'Presidente', 'más', 'este', 'skal', 'è', 'como', 'sie', 'haben', 'le', 'auch', 'sind', 'Comisión', 'fra', 'han', 'Europa', 'non', 'um', 'esta', 'als', 'della', 'Parlamento', 'wie']\n",
      "(28268, 99)\n",
      "(4988, 99)\n",
      "(8314, 99)\n"
     ]
    }
   ],
   "source": [
    "cuvinte_caracteristice = count_most_common(100, train_data)\n",
    "print(len(cuvinte_caracteristice))\n",
    "print(cuvinte_caracteristice)\n",
    "word2id, id2word = build_id_word_dicts(cuvinte_caracteristice)\n",
    "\n",
    "X_train = featurize_multi(train_data, id2word)\n",
    "X_valid = featurize_multi(valid_data, id2word)\n",
    "X_test = featurize_multi(test_data, id2word)\n",
    "\n",
    "print(X_train.shape)\n",
    "print(X_valid.shape)\n",
    "print(X_test.shape)\n"
   ]
  },
  {
   "cell_type": "code",
   "execution_count": 59,
   "metadata": {
    "execution": {
     "iopub.execute_input": "2022-10-31T16:44:57.404998Z",
     "iopub.status.busy": "2022-10-31T16:44:57.404599Z",
     "iopub.status.idle": "2022-10-31T16:45:08.261068Z",
     "shell.execute_reply": "2022-10-31T16:45:08.259303Z",
     "shell.execute_reply.started": "2022-10-31T16:44:57.404963Z"
    }
   },
   "outputs": [
    {
     "name": "stdout",
     "output_type": "stream",
     "text": [
      "0.5467121090617482\n",
      "0.5093817656964157\n"
     ]
    },
    {
     "name": "stderr",
     "output_type": "stream",
     "text": [
      "/usr/local/lib/python3.10/site-packages/sklearn/svm/_base.py:1225: ConvergenceWarning: Liblinear failed to converge, increase the number of iterations.\n",
      "  warnings.warn(\n"
     ]
    }
   ],
   "source": [
    "from sklearn.metrics import accuracy_score\n",
    "from sklearn import svm\n",
    "\n",
    "model = svm.LinearSVC(C=1)\n",
    "\n",
    "model.fit(X_train, train_labels)\n",
    "vpreds = model.predict(X_valid)\n",
    "tpreds = model.predict(X_test)\n",
    "\n",
    "print(accuracy_score(valid_labels, vpreds))\n",
    "print(accuracy_score(test_labels, tpreds))"
   ]
  },
  {
   "cell_type": "markdown",
   "metadata": {},
   "source": [
    "## Exemplu de lucru cu stop words in nltk"
   ]
  },
  {
   "cell_type": "code",
   "execution_count": 56,
   "metadata": {},
   "outputs": [
    {
     "name": "stdout",
     "output_type": "stream",
     "text": [
      "['au', 'aux', 'avec', 'ce', 'ces', 'dans', 'de', 'des', 'du', 'elle', 'en', 'et', 'eux', 'il', 'ils', 'je', 'la', 'le', 'les', 'leur', 'lui', 'ma', 'mais', 'me', 'même', 'mes', 'moi', 'mon', 'ne', 'nos', 'notre', 'nous', 'on', 'ou', 'par', 'pas', 'pour', 'qu', 'que', 'qui', 'sa', 'se', 'ses', 'son', 'sur', 'ta', 'te', 'tes', 'toi', 'ton', 'tu', 'un', 'une', 'vos', 'votre', 'vous', 'c', 'd', 'j', 'l', 'à', 'm', 'n', 's', 't', 'y', 'été', 'étée', 'étées', 'étés', 'étant', 'étante', 'étants', 'étantes', 'suis', 'es', 'est', 'sommes', 'êtes', 'sont', 'serai', 'seras', 'sera', 'serons', 'serez', 'seront', 'serais', 'serait', 'serions', 'seriez', 'seraient', 'étais', 'était', 'étions', 'étiez', 'étaient', 'fus', 'fut', 'fûmes', 'fûtes', 'furent', 'sois', 'soit', 'soyons', 'soyez', 'soient', 'fusse', 'fusses', 'fût', 'fussions', 'fussiez', 'fussent', 'ayant', 'ayante', 'ayantes', 'ayants', 'eu', 'eue', 'eues', 'eus', 'ai', 'as', 'avons', 'avez', 'ont', 'aurai', 'auras', 'aura', 'aurons', 'aurez', 'auront', 'aurais', 'aurait', 'aurions', 'auriez', 'auraient', 'avais', 'avait', 'avions', 'aviez', 'avaient', 'eut', 'eûmes', 'eûtes', 'eurent', 'aie', 'aies', 'ait', 'ayons', 'ayez', 'aient', 'eusse', 'eusses', 'eût', 'eussions', 'eussiez', 'eussent']\n"
     ]
    },
    {
     "name": "stderr",
     "output_type": "stream",
     "text": [
      "[nltk_data] Downloading package stopwords to /Users/admin/nltk_data...\n",
      "[nltk_data]   Package stopwords is already up-to-date!\n"
     ]
    }
   ],
   "source": [
    "# luat in calcul cuvintele functionale, pot creste sau scadea acuratetea\n",
    "# in cazul de fata, cuvintele functionale (stop words) indica elemente de gramatica\n",
    "# care sunt specifice textelor de la Scotieni, Englezi, Irlandezi\n",
    "import nltk\n",
    "nltk.download(\"stopwords\")\n",
    "\n",
    "from nltk.corpus import stopwords\n",
    "print(stopwords.words('french'))"
   ]
  }
 ],
 "metadata": {
  "kernelspec": {
   "display_name": "Python 3.10.8 64-bit",
   "language": "python",
   "name": "python3"
  },
  "language_info": {
   "codemirror_mode": {
    "name": "ipython",
    "version": 3
   },
   "file_extension": ".py",
   "mimetype": "text/x-python",
   "name": "python",
   "nbconvert_exporter": "python",
   "pygments_lexer": "ipython3",
   "version": "3.10.8"
  },
  "vscode": {
   "interpreter": {
    "hash": "aee8b7b246df8f9039afb4144a1f6fd8d2ca17a180786b69acc140d282b71a49"
   }
  }
 },
 "nbformat": 4,
 "nbformat_minor": 4
}
