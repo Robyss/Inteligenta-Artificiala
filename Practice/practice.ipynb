{
 "cells": [
  {
   "cell_type": "code",
   "execution_count": 1,
   "metadata": {},
   "outputs": [],
   "source": [
    "import os\n",
    "import numpy as np\n",
    "import matplotlib as plt\n",
    "import pandas as pd"
   ]
  },
  {
   "cell_type": "code",
   "execution_count": 2,
   "metadata": {},
   "outputs": [],
   "source": [
    "# Read the data\n",
    "data_path = '../Lab 5/'\n",
    "train_data_df = pd.read_csv(os.path.join(data_path, 'train_data.csv'))"
   ]
  },
  {
   "cell_type": "code",
   "execution_count": 3,
   "metadata": {},
   "outputs": [
    {
     "data": {
      "text/html": [
       "<div>\n",
       "<style scoped>\n",
       "    .dataframe tbody tr th:only-of-type {\n",
       "        vertical-align: middle;\n",
       "    }\n",
       "\n",
       "    .dataframe tbody tr th {\n",
       "        vertical-align: top;\n",
       "    }\n",
       "\n",
       "    .dataframe thead th {\n",
       "        text-align: right;\n",
       "    }\n",
       "</style>\n",
       "<table border=\"1\" class=\"dataframe\">\n",
       "  <thead>\n",
       "    <tr style=\"text-align: right;\">\n",
       "      <th></th>\n",
       "      <th>language</th>\n",
       "      <th>text</th>\n",
       "      <th>label</th>\n",
       "    </tr>\n",
       "  </thead>\n",
       "  <tbody>\n",
       "    <tr>\n",
       "      <th>0</th>\n",
       "      <td>dansk</td>\n",
       "      <td>\\nDette er et fremragende initiativ, og jeg st...</td>\n",
       "      <td>Ireland</td>\n",
       "    </tr>\n",
       "    <tr>\n",
       "      <th>1</th>\n",
       "      <td>dansk</td>\n",
       "      <td>\\nHr. formand, jeg er sikker på, at alle her e...</td>\n",
       "      <td>Ireland</td>\n",
       "    </tr>\n",
       "    <tr>\n",
       "      <th>2</th>\n",
       "      <td>dansk</td>\n",
       "      <td>\\nHr. formand, folk på den nordlige halvkugle ...</td>\n",
       "      <td>England</td>\n",
       "    </tr>\n",
       "    <tr>\n",
       "      <th>3</th>\n",
       "      <td>dansk</td>\n",
       "      <td>\\nHr. formand, med forbehold af nogle få ændri...</td>\n",
       "      <td>England</td>\n",
       "    </tr>\n",
       "    <tr>\n",
       "      <th>4</th>\n",
       "      <td>dansk</td>\n",
       "      <td>\\n\\n   - Hr. formand, jeg må protestere mod de...</td>\n",
       "      <td>England</td>\n",
       "    </tr>\n",
       "    <tr>\n",
       "      <th>...</th>\n",
       "      <td>...</td>\n",
       "      <td>...</td>\n",
       "      <td>...</td>\n",
       "    </tr>\n",
       "    <tr>\n",
       "      <th>41565</th>\n",
       "      <td>Nederlands</td>\n",
       "      <td>\\nMijnheer de Voorzitter, juridisch gezien is ...</td>\n",
       "      <td>England</td>\n",
       "    </tr>\n",
       "    <tr>\n",
       "      <th>41566</th>\n",
       "      <td>Nederlands</td>\n",
       "      <td>\\n\\n   .  Mijnheer de Voorzitter, het is niet ...</td>\n",
       "      <td>Scotland</td>\n",
       "    </tr>\n",
       "    <tr>\n",
       "      <th>41567</th>\n",
       "      <td>Nederlands</td>\n",
       "      <td>\\nAls afgevaardigde van Ierland, het 'voedsele...</td>\n",
       "      <td>Ireland</td>\n",
       "    </tr>\n",
       "    <tr>\n",
       "      <th>41568</th>\n",
       "      <td>Nederlands</td>\n",
       "      <td>\\nMijnheer de Voorzitter, het is niet onterech...</td>\n",
       "      <td>England</td>\n",
       "    </tr>\n",
       "    <tr>\n",
       "      <th>41569</th>\n",
       "      <td>Nederlands</td>\n",
       "      <td>\\n\\n   - Stelt u zich voor dat een ander wetge...</td>\n",
       "      <td>Ireland</td>\n",
       "    </tr>\n",
       "  </tbody>\n",
       "</table>\n",
       "<p>41570 rows × 3 columns</p>\n",
       "</div>"
      ],
      "text/plain": [
       "         language                                               text     label\n",
       "0           dansk  \\nDette er et fremragende initiativ, og jeg st...   Ireland\n",
       "1           dansk  \\nHr. formand, jeg er sikker på, at alle her e...   Ireland\n",
       "2           dansk  \\nHr. formand, folk på den nordlige halvkugle ...   England\n",
       "3           dansk  \\nHr. formand, med forbehold af nogle få ændri...   England\n",
       "4           dansk  \\n\\n   - Hr. formand, jeg må protestere mod de...   England\n",
       "...           ...                                                ...       ...\n",
       "41565  Nederlands  \\nMijnheer de Voorzitter, juridisch gezien is ...   England\n",
       "41566  Nederlands  \\n\\n   .  Mijnheer de Voorzitter, het is niet ...  Scotland\n",
       "41567  Nederlands  \\nAls afgevaardigde van Ierland, het 'voedsele...   Ireland\n",
       "41568  Nederlands  \\nMijnheer de Voorzitter, het is niet onterech...   England\n",
       "41569  Nederlands  \\n\\n   - Stelt u zich voor dat een ander wetge...   Ireland\n",
       "\n",
       "[41570 rows x 3 columns]"
      ]
     },
     "execution_count": 3,
     "metadata": {},
     "output_type": "execute_result"
    }
   ],
   "source": [
    "train_data_df"
   ]
  },
  {
   "cell_type": "code",
   "execution_count": 4,
   "metadata": {},
   "outputs": [
    {
     "name": "stdout",
     "output_type": "stream",
     "text": [
      "['Ireland' 'England' 'Scotland']\n",
      "{'Ireland': 0, 'England': 1, 'Scotland': 2}\n",
      "{0: 'Ireland', 1: 'England', 2: 'Scotland'}\n"
     ]
    }
   ],
   "source": [
    "# Codificarea etichetelor\n",
    "\n",
    "etichete_unice = train_data_df['label'].unique()\n",
    "print(etichete_unice)\n",
    "label2id = {}\n",
    "id2label = {}\n",
    "\n",
    "for idx, eticheta in enumerate(etichete_unice):\n",
    "    label2id[eticheta] = idx\n",
    "    id2label[idx] = eticheta\n",
    "\n",
    "print(label2id)\n",
    "print(id2label)\n"
   ]
  },
  {
   "cell_type": "code",
   "execution_count": 5,
   "metadata": {},
   "outputs": [
    {
     "data": {
      "text/plain": [
       "[0, 0, 1, 1, 1, 0, 1, 1, 1, 2]"
      ]
     },
     "execution_count": 5,
     "metadata": {},
     "output_type": "execute_result"
    }
   ],
   "source": [
    "labels = []\n",
    "\n",
    "for i in train_data_df['label']:\n",
    "    labels.append(label2id[i])\n",
    "\n",
    "labels[:10]"
   ]
  },
  {
   "cell_type": "markdown",
   "metadata": {},
   "source": [
    "## Preprocesarea Datelor"
   ]
  },
  {
   "cell_type": "code",
   "execution_count": null,
   "metadata": {},
   "outputs": [],
   "source": [
    "import re\n",
    "import nltk\n",
    "from nltk.corpus import stopwords\n",
    "from simplemma import lemmatize\n",
    "from simplemma import lang_detector\n",
    "\n",
    "nltk.download('stopwords')"
   ]
  },
  {
   "cell_type": "code",
   "execution_count": 7,
   "metadata": {},
   "outputs": [],
   "source": [
    "stop_words = set(stopwords.words('italian'))\n",
    "\n",
    "def procesare_text(text):\n",
    "\n",
    "    # Eliminarea numerelor\n",
    "    text = re.sub(r'\\d+', '', text)\n",
    "    \n",
    "    # Tokenizare si selectarea cuvintelor\n",
    "    cuvinte = re.findall(r'\\w+', text)\n",
    "\n",
    "    # Eliminarea cuvintelor de legatura\n",
    "    cuvinte = [cuvant for cuvant in cuvinte if cuvant not in stop_words]\n",
    "\n",
    "    # Lemmatizarea cuvintelor in diferite limbi\n",
    "    cuvinte = [lemmatize(cuvant, lang='it') for cuvant in cuvinte]\n",
    "\n",
    "    # print(lang_detector(text, lang=('da', 'it', 'es', 'fr', 'de')))\n",
    "\n",
    "    return cuvinte"
   ]
  },
  {
   "cell_type": "code",
   "execution_count": 8,
   "metadata": {},
   "outputs": [
    {
     "name": "stdout",
     "output_type": "stream",
     "text": [
      "111\n",
      "['si', 'trattare', 'eccellente', 'iniziativa', 'condividere', 'totalmente', 'obiettivo', 'mettere', 'rilievo', 'valore', 'educativo', 'sport', 'costruire', 'partenariato', 'organizzazione', 'sportivo', 'istituto', 'scolastico', 'potere', 'dare', 'molto', 'frutto', 'in', 'qualità', 'deputare', 'irlandese', 'particolarmente', 'lieto', 'proporre', 'designare', 'anno', 'europeo', 'educazione', 'tramite', 'sport', 'andare', 'coincidere', 'presidenza', 'irlandese', 'unione', 'prima', 'metà', 'potere', 'rassicurare', 'collega', 'Irlanda', 'svolgere', 'ruolo', 'grande', 'prominenza', 'molto', 'azione', 'previsto', 'L', 'Irlanda', 'lungo', 'tradizione', 'sportivo', 'particolare', 'amatoriale', 'volontaristico', 'come', 'notare', 'corso', 'svolgere', 'importante', 'manifestazione', 'sportivo', 'campionare', 'mondiale', 'calciare', 'gioco', 'olimpico', 'paraolimpici', 'Atene', 'il', 'proporre', 'prevedere', 'anno', 'preparatorio', 'avvenire', 'alcuno', 'attività', 'corrispondenza', 'anno', 'accademico', 'L', 'Irlanda', 'ospitare', 'olimpiade', 'speciale', 'contributo', 'unione', 'europeo', 'organizzazione', 'tale', 'evento', 'degno', 'nota', 'si', 'trattare', 'esperienza', 'culturale', 'sportivo', 'unica', 'atleta', 'partecipante', 'proveniente', 'delegazione', 'internazionale', 'mondo']\n"
     ]
    }
   ],
   "source": [
    "exemplu_italian = train_data_df[train_data_df['language'] == 'italiano']\n",
    "text_italian = exemplu_italian['text'].iloc[0]\n",
    "italian = procesare_text(text_italian)\n",
    "print(len(italian))\n",
    "print(italian)"
   ]
  },
  {
   "cell_type": "code",
   "execution_count": 9,
   "metadata": {},
   "outputs": [
    {
     "name": "stdout",
     "output_type": "stream",
     "text": [
      "organisering\n",
      "organiseringen\n"
     ]
    }
   ],
   "source": [
    "print(lemmatize('organiseringen', lang=('da', 'de')))\n",
    "# >>> organisering\n",
    "\n",
    "print(lemmatize('organiseringen', lang=('de', 'da')))\n",
    "# >>> organiseringen"
   ]
  },
  {
   "cell_type": "code",
   "execution_count": 10,
   "metadata": {},
   "outputs": [
    {
     "name": "stdout",
     "output_type": "stream",
     "text": [
      "['signore', 'presidente', 'presente', 'sapere', 'certamente', 'verde', 'condividere', 'operare', 'unione', 'europeo', 'materia', 'accordo', 'pesca', 'non', 'contrario', 'principio', 'accordo', 'pesca', 'avanzare', 'forte', 'riserva', 'modalità', 'base', 'negoziazione', 'quando', 'occupare', 'relazione', 'Madagascar', 'fare', 'studio', 'dettagliare', 'accordare', 'pesca', 'tale', 'paese', 'trovare', 'gravemente', 'carente', 'da', 'allora', 'votare', 'tale', 'accordo', 'L', 'accordare', 'Maurizio', 'isola', 'vicino', 'Madagascar', 'molto', 'simile', 'accordare', 'quest', 'ultimare', 'paese', 'L', 'accordare', 'Senegal', 'presentare', 'invece', 'altro', 'problema', 'si', 'trattare', 'proroga', 'quattro', 'anno', 'prima', 'volta', 'esso', 'concedere', 'nave', 'UE', 'accesso', 'risorsa', 'pelagiche', 'tale', 'risorsa', 'costituire', 'obiettivo', 'essenziale', 'grande', 'importante', 'settore', 'pesca', 'artigianale', 'pescatore', 'molto', 'preoccupato', 'impattare', 'accordare', 'sostentamento', 'fornitura', 'alimentare', 'villaggio', 'costiero', 'per', 'motivare', 'assieme', 'gruppo', 'EDN', 'onorevole', 'Macartney', 'proporre', 'emendamento', 'intendere', 'ottenere', 'revisione', 'intermedio', 'accordare', 'volere', 'essa', 'esaminare', 'impattare', 'pesca', 'UE', 'riserva', 'ittico', 'comunità', 'pescatore', 'artigianale', 'il', 'proporre', 'fortemente', 'sostenuto', 'pescatore', 'artigianale', 'Senegal', 'il', 'revisione', 'dovere', 'essere', 'effettuare', 'organismo', 'indipendente', 'colorare', 'interesse', 'prosieguo', 'pesca', 'parte', 'UE', 'Qualora', 'impattare', 'rivelare', 'negativo', 'occorrere', 'rinegoziazione', 'accordare', 'onda', 'eliminare', 'attività', 'pesca', 'origine', 'problema', 'desiderare', 'rivolgere', 'semplice', 'domanda', 'Commissione', 'augurare', 'venire', 'fornito', 'rispondere', 'sera', 'il', 'domanda', 'seguente', 'qualora', 'parlamento', 'approvare', 'emendamento', 'favore', 'revisione', 'intermedio', 'Commissione', 'accettare']\n"
     ]
    }
   ],
   "source": [
    "data = []\n",
    "for text in exemplu_italian['text']:\n",
    "    data.append(procesare_text(text))\n",
    "\n",
    "print(data[1])"
   ]
  },
  {
   "cell_type": "markdown",
   "metadata": {},
   "source": [
    "## Antrenare, validare, testare"
   ]
  },
  {
   "cell_type": "code",
   "execution_count": 11,
   "metadata": {},
   "outputs": [],
   "source": [
    "from sklearn.model_selection import train_test_split\n",
    "labels = labels[24942:33256]\n",
    "\n",
    "X_train, X_test, y_train, y_test = train_test_split(data, labels, test_size=0.2, random_state=42)\n"
   ]
  },
  {
   "cell_type": "markdown",
   "metadata": {},
   "source": [
    "## Bag of Words"
   ]
  },
  {
   "cell_type": "code",
   "execution_count": 12,
   "metadata": {},
   "outputs": [],
   "source": [
    "from collections import Counter"
   ]
  },
  {
   "cell_type": "code",
   "execution_count": 13,
   "metadata": {},
   "outputs": [
    {
     "name": "stdout",
     "output_type": "stream",
     "text": [
      "[('il', 14323), ('dovere', 13701), ('essere', 12198), ('europeo', 11965), ('potere', 11313), ('stato', 10906), ('fare', 8333), ('presidente', 8310), ('unione', 7412), ('Commissione', 6840), ('relazione', 6403), ('volere', 6379), ('molto', 6226), ('parlamento', 6076), ('altro', 5907), ('paese', 5778), ('signore', 5684), ('tale', 5180), ('membro', 4852), ('onorevole', 4558), ('avere', 4291), ('diritto', 4257), ('parte', 4189), ('anno', 4092), ('modo', 3939), ('consiglio', 3938), ('questione', 3938), ('politica', 3897), ('venire', 3699), ('alcuno', 3673)]\n"
     ]
    }
   ],
   "source": [
    "vocab = Counter()\n",
    "\n",
    "for cuvinte in data:\n",
    "    vocab.update(cuvinte)\n",
    "\n",
    "print(vocab.most_common(30))\n"
   ]
  },
  {
   "cell_type": "markdown",
   "metadata": {},
   "source": [
    "### Reprezentarea datelor sub forma vectoriala"
   ]
  },
  {
   "cell_type": "code",
   "execution_count": 14,
   "metadata": {},
   "outputs": [
    {
     "name": "stdout",
     "output_type": "stream",
     "text": [
      "['il', 'dovere', 'essere', 'europeo', 'potere', 'stato', 'fare', 'presidente', 'unione', 'Commissione', 'relazione', 'volere', 'molto', 'parlamento', 'altro', 'paese', 'signore', 'tale', 'membro', 'onorevole', 'avere', 'diritto', 'parte', 'anno', 'modo', 'consiglio', 'questione', 'politica', 'venire', 'alcuno', 'in', 'e', 'problema', 'commissariare', 'proporre', 'lavoro', 'trattare', 'nuovo', 'proprio', 'non', 'riguardare', 'Europa', 'gruppo', 'importante', 'solo', 'L', 'd', 'commissione', 'governo', 'chiedere']\n"
     ]
    }
   ],
   "source": [
    "N = 50\n",
    "cuvinte_caracteristice = []\n",
    "for cuvant, frecventa in vocab.most_common(N):\n",
    "    if cuvant.strip():\n",
    "        cuvinte_caracteristice.append(cuvant)\n",
    "\n",
    "print(cuvinte_caracteristice)"
   ]
  },
  {
   "cell_type": "code",
   "execution_count": 15,
   "metadata": {},
   "outputs": [
    {
     "name": "stdout",
     "output_type": "stream",
     "text": [
      "{'il': 0, 'dovere': 1, 'essere': 2, 'europeo': 3, 'potere': 4, 'stato': 5, 'fare': 6, 'presidente': 7, 'unione': 8, 'Commissione': 9, 'relazione': 10, 'volere': 11, 'molto': 12, 'parlamento': 13, 'altro': 14, 'paese': 15, 'signore': 16, 'tale': 17, 'membro': 18, 'onorevole': 19, 'avere': 20, 'diritto': 21, 'parte': 22, 'anno': 23, 'modo': 24, 'consiglio': 25, 'questione': 26, 'politica': 27, 'venire': 28, 'alcuno': 29, 'in': 30, 'e': 31, 'problema': 32, 'commissariare': 33, 'proporre': 34, 'lavoro': 35, 'trattare': 36, 'nuovo': 37, 'proprio': 38, 'non': 39, 'riguardare': 40, 'Europa': 41, 'gruppo': 42, 'importante': 43, 'solo': 44, 'L': 45, 'd': 46, 'commissione': 47, 'governo': 48, 'chiedere': 49}\n",
      "{0: 'il', 1: 'dovere', 2: 'essere', 3: 'europeo', 4: 'potere', 5: 'stato', 6: 'fare', 7: 'presidente', 8: 'unione', 9: 'Commissione', 10: 'relazione', 11: 'volere', 12: 'molto', 13: 'parlamento', 14: 'altro', 15: 'paese', 16: 'signore', 17: 'tale', 18: 'membro', 19: 'onorevole', 20: 'avere', 21: 'diritto', 22: 'parte', 23: 'anno', 24: 'modo', 25: 'consiglio', 26: 'questione', 27: 'politica', 28: 'venire', 29: 'alcuno', 30: 'in', 31: 'e', 32: 'problema', 33: 'commissariare', 34: 'proporre', 35: 'lavoro', 36: 'trattare', 37: 'nuovo', 38: 'proprio', 39: 'non', 40: 'riguardare', 41: 'Europa', 42: 'gruppo', 43: 'importante', 44: 'solo', 45: 'L', 46: 'd', 47: 'commissione', 48: 'governo', 49: 'chiedere'}\n"
     ]
    }
   ],
   "source": [
    "word2id = {}\n",
    "id2word = {}\n",
    "for idx, cuv in enumerate(cuvinte_caracteristice):\n",
    "    word2id[cuv] = idx\n",
    "    id2word[idx] = cuv\n",
    "\n",
    "print(word2id)\n",
    "print(id2word)"
   ]
  },
  {
   "cell_type": "code",
   "execution_count": 16,
   "metadata": {},
   "outputs": [
    {
     "name": "stdout",
     "output_type": "stream",
     "text": [
      "[2. 2. 0. 5. 0. 2. 1. 0. 4. 0. 1. 0. 0. 1. 0. 0. 0. 0. 2. 0. 0. 0. 0. 0.\n",
      " 0. 0. 0. 0. 0. 0. 0. 0. 0. 0. 0. 0. 0. 0. 0. 1. 0. 0. 0. 0. 0. 0. 0. 0.\n",
      " 0. 0.]\n"
     ]
    }
   ],
   "source": [
    "ctr = Counter(data[6])\n",
    "\n",
    "features = np.zeros(len(cuvinte_caracteristice))\n",
    "\n",
    "for idx in range(len(features)):\n",
    "    cuvant = id2word[idx]\n",
    "    features[idx] = ctr[cuvant]\n",
    "\n",
    "print(features)"
   ]
  },
  {
   "cell_type": "markdown",
   "metadata": {},
   "source": [
    "## Rezolvare"
   ]
  },
  {
   "cell_type": "code",
   "execution_count": 17,
   "metadata": {},
   "outputs": [],
   "source": [
    "def count_most_common(how_many, data):\n",
    "\n",
    "    counter = Counter()\n",
    "    for cuvinte in data:\n",
    "        counter.update(cuvinte)\n",
    "\n",
    "    cuvinte_caracteristice = []\n",
    "    for cuvant, frecventa in counter.most_common(how_many):\n",
    "        if cuvant.strip():\n",
    "            cuvinte_caracteristice.append(cuvant)\n",
    "\n",
    "    return cuvinte_caracteristice"
   ]
  },
  {
   "cell_type": "code",
   "execution_count": 18,
   "metadata": {},
   "outputs": [],
   "source": [
    "def build_id_word_dicts(cuvinte_caracteristice):\n",
    "\n",
    "    word2id = {}\n",
    "    id2word = {}\n",
    "    for idx, cuv in enumerate(cuvinte_caracteristice):\n",
    "        word2id[cuv] = idx\n",
    "        id2word[idx] = cuv\n",
    "\n",
    "    return word2id, id2word"
   ]
  },
  {
   "cell_type": "code",
   "execution_count": 19,
   "metadata": {},
   "outputs": [],
   "source": [
    "def featurize(data, id2word):\n",
    "\n",
    "    ctr = Counter(data)\n",
    "    features = np.zeros(len(id2word))\n",
    "\n",
    "    for idx in range(len(features)):\n",
    "        cuvant = id2word[idx]\n",
    "        features[idx] = ctr[cuvant]\n",
    "\n",
    "    return features"
   ]
  },
  {
   "cell_type": "code",
   "execution_count": 20,
   "metadata": {},
   "outputs": [],
   "source": [
    "def features_multi(data, id2word):\n",
    "\n",
    "    features = []\n",
    "    for text in data:\n",
    "        features.append(featurize(text, id2word))\n",
    "\n",
    "    return np.array(features)"
   ]
  },
  {
   "cell_type": "code",
   "execution_count": 21,
   "metadata": {},
   "outputs": [
    {
     "name": "stdout",
     "output_type": "stream",
     "text": [
      "['il', 'dovere', 'essere', 'europeo', 'potere', 'stato', 'fare', 'presidente', 'unione', 'Commissione', 'relazione', 'volere', 'molto', 'parlamento', 'altro', 'paese', 'signore', 'tale', 'membro', 'onorevole', 'avere', 'diritto', 'parte', 'anno', 'modo', 'consiglio', 'questione', 'politica', 'venire', 'alcuno', 'in', 'e', 'problema', 'commissariare', 'proporre', 'lavoro', 'trattare', 'nuovo', 'proprio', 'non', 'riguardare', 'Europa', 'gruppo', 'importante', 'solo', 'L', 'd', 'commissione', 'governo', 'chiedere']\n"
     ]
    }
   ],
   "source": [
    "cuvinte_caracteristice = count_most_common(50, data)\n",
    "print(cuvinte_caracteristice)"
   ]
  },
  {
   "cell_type": "code",
   "execution_count": 22,
   "metadata": {},
   "outputs": [
    {
     "name": "stdout",
     "output_type": "stream",
     "text": [
      "(6651, 60)\n",
      "(1663, 60)\n"
     ]
    }
   ],
   "source": [
    "cuvinte_caracteristice = count_most_common(60, data)\n",
    "\n",
    "word2id, id2word = build_id_word_dicts(cuvinte_caracteristice)\n",
    "\n",
    "X_train = features_multi(X_train, id2word)\n",
    "X_test = features_multi(X_test, id2word)\n",
    "\n",
    "print(X_train.shape)\n",
    "print(X_test.shape)"
   ]
  },
  {
   "cell_type": "code",
   "execution_count": 23,
   "metadata": {},
   "outputs": [
    {
     "name": "stdout",
     "output_type": "stream",
     "text": [
      "0.5496091401082381\n"
     ]
    }
   ],
   "source": [
    "from sklearn import svm\n",
    "from sklearn.metrics import accuracy_score\n",
    "\n",
    "model = svm.SVC(kernel='linear')\n",
    "model.fit(X_train, y_train)\n",
    "\n",
    "y_pred = model.predict(X_test)\n",
    "\n",
    "print(accuracy_score(y_test, y_pred))"
   ]
  },
  {
   "cell_type": "code",
   "execution_count": 25,
   "metadata": {},
   "outputs": [
    {
     "name": "stdout",
     "output_type": "stream",
     "text": [
      "0.5640408899579074\n",
      "[[ 57 369  11]\n",
      " [ 29 862  23]\n",
      " [  4 289  19]]\n"
     ]
    },
    {
     "data": {
      "image/png": "[encoded data removed]",
      "text/plain": [
       "<Figure size 500x500 with 2 Axes>"
      ]
     },
     "metadata": {},
     "output_type": "display_data"
    }
   ],
   "source": [
    "from sklearn.linear_model import LogisticRegression\n",
    "from sklearn.metrics import accuracy_score\n",
    "\n",
    "clf = LogisticRegression(random_state=0, solver='lbfgs', multi_class='multinomial').fit(X_train, y_train)\n",
    "\n",
    "y_pred = clf.predict(X_test)\n",
    "\n",
    "print(accuracy_score(y_test, y_pred))\n",
    "\n",
    "from sklearn.metrics import confusion_matrix\n",
    "import seaborn as sns\n",
    "import matplotlib.pyplot as plt\n",
    "\n",
    "cm = confusion_matrix(y_test, y_pred)\n",
    "print(cm)\n",
    "\n",
    "plt.figure(figsize=(5,5))\n",
    "sns.heatmap(cm, annot=True, fmt=\"d\")\n",
    "plt.ylabel('Actual')\n",
    "plt.xlabel('Predicted')\n",
    "plt.show()\n"
   ]
  }
 ],
 "metadata": {
  "kernelspec": {
   "display_name": "Python 3.10.8 64-bit",
   "language": "python",
   "name": "python3"
  },
  "language_info": {
   "codemirror_mode": {
    "name": "ipython",
    "version": 3
   },
   "file_extension": ".py",
   "mimetype": "text/x-python",
   "name": "python",
   "nbconvert_exporter": "python",
   "pygments_lexer": "ipython3",
   "version": "3.10.8"
  },
  "orig_nbformat": 4,
  "vscode": {
   "interpreter": {
    "hash": "aee8b7b246df8f9039afb4144a1f6fd8d2ca17a180786b69acc140d282b71a49"
   }
  }
 },
 "nbformat": 4,
 "nbformat_minor": 2
}
