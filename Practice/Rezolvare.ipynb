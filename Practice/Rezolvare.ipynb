{
 "cells": [
  {
   "cell_type": "code",
   "execution_count": 23,
   "metadata": {},
   "outputs": [],
   "source": [
    "import os\n",
    "import numpy as np\n",
    "import matplotlib.pyplot as plt\n",
    "import pandas as pd\n",
    "import nltk"
   ]
  },
  {
   "cell_type": "code",
   "execution_count": 25,
   "metadata": {},
   "outputs": [],
   "source": [
    "dataPath = './Data/'\n",
    "X_stop_digits_lemma = np.load(dataPath + 'X.npy', allow_pickle=True)\n",
    "X_stop_lemma    = np.load(dataPath + 'X_stop_lemma.npy', allow_pickle=True)\n",
    "X_stop_stem     = np.load(dataPath + 'X_stop_stem.npy', allow_pickle=True)\n",
    "X_stop          = np.load(dataPath + 'X_stop.npy', allow_pickle=True)\n",
    "X               = np.load(dataPath + 'X.npy', allow_pickle=True)\n",
    "y = np.load(dataPath + 'y.npy', allow_pickle=True)"
   ]
  },
  {
   "cell_type": "code",
   "execution_count": null,
   "metadata": {},
   "outputs": [],
   "source": [
    "a = \"Hello, Guys! Mr. Robert here! What's going on here? I ain't comming back!!\"\n",
    "\n",
    "nltk.download('punkt')\n",
    "\n",
    "for text in X_stop_lemma:\n",
    "    if text != text.lower():\n",
    "        print(text)\n",
    "\n",
    "print(nltk.word_tokenize(X[9000], 'german'))"
   ]
  },
  {
   "cell_type": "code",
   "execution_count": 52,
   "metadata": {},
   "outputs": [
    {
     "data": {
      "text/plain": [
       "Counter({0: 10535, 1: 22700, 2: 8335})"
      ]
     },
     "execution_count": 52,
     "metadata": {},
     "output_type": "execute_result"
    }
   ],
   "source": [
    "from collections import Counter\n",
    "from imblearn.over_sampling import RandomOverSampler\n",
    "from sklearn.model_selection import train_test_split\n",
    "\n",
    "x_tr, x_te, y_tr, y_te = train_test_split(X_stop_lemma, y, test_size=0.2, random_state=42)\n"
   ]
  },
  {
   "cell_type": "code",
   "execution_count": 49,
   "metadata": {},
   "outputs": [],
   "source": [
    "from sklearn.model_selection import train_test_split\n",
    "\n",
    "X_train, X_valid, y_train, y_valid = train_test_split(X_stop_lemma, y, test_size=0.2, random_state=42)\n",
    "\n",
    "from sklearn.feature_extraction.text import TfidfVectorizer\n",
    "\n",
    "vectorizer = TfidfVectorizer(strip_accents='unicode', sublinear_tf=True, max_features=104000)\n",
    "X_train = vectorizer.fit_transform(X_train)\n",
    "X_valid = vectorizer.transform(X_valid)"
   ]
  },
  {
   "cell_type": "code",
   "execution_count": 50,
   "metadata": {},
   "outputs": [
    {
     "name": "stdout",
     "output_type": "stream",
     "text": [
      "0.7166225643492904\n"
     ]
    },
    {
     "name": "stderr",
     "output_type": "stream",
     "text": [
      "c:\\Users\\Robert\\anaconda3\\envs\\pitonul\\lib\\site-packages\\sklearn\\linear_model\\_logistic.py:444: ConvergenceWarning: lbfgs failed to converge (status=1):\n",
      "STOP: TOTAL NO. of ITERATIONS REACHED LIMIT.\n",
      "\n",
      "Increase the number of iterations (max_iter) or scale the data as shown in:\n",
      "    https://scikit-learn.org/stable/modules/preprocessing.html\n",
      "Please also refer to the documentation for alternative solver options:\n",
      "    https://scikit-learn.org/stable/modules/linear_model.html#logistic-regression\n",
      "  n_iter_i = _check_optimize_result(\n"
     ]
    }
   ],
   "source": [
    "from sklearn.linear_model import LogisticRegression\n",
    "\n",
    "clf = LogisticRegression(random_state=0).fit(X_train, y_train)\n",
    "\n",
    "from sklearn.metrics import accuracy_score\n",
    "\n",
    "y_pred = clf.predict(X_valid)\n",
    "print(accuracy_score(y_valid, y_pred))\n"
   ]
  },
  {
   "cell_type": "code",
   "execution_count": null,
   "metadata": {},
   "outputs": [],
   "source": [
    "# id2label = {0: 'Ireland', 1:'England', 2:'Scotland'}\n",
    "\n",
    "# y_pred = clf.predict(X_test)\n",
    "\n",
    "# prediction = [id2label[pred] for pred in y_pred]\n",
    "\n",
    "# answer = pd.DataFrame({'id':range(1, len(prediction) + 1),'label': prediction})\n",
    "# answer.to_csv('answer.csv', index=False)"
   ]
  }
 ],
 "metadata": {
  "kernelspec": {
   "display_name": "Python 3.10.6 ('pitonul')",
   "language": "python",
   "name": "python3"
  },
  "language_info": {
   "codemirror_mode": {
    "name": "ipython",
    "version": 3
   },
   "file_extension": ".py",
   "mimetype": "text/x-python",
   "name": "python",
   "nbconvert_exporter": "python",
   "pygments_lexer": "ipython3",
   "version": "3.10.6"
  },
  "orig_nbformat": 4,
  "vscode": {
   "interpreter": {
    "hash": "9b1fe3547adcaf4168b67bd317ac182cbb3744d0c2f73b8fa776927a414731e5"
   }
  }
 },
 "nbformat": 4,
 "nbformat_minor": 2
}
