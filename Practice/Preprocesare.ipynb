{
 "cells": [
  {
   "cell_type": "code",
   "execution_count": 12,
   "metadata": {},
   "outputs": [],
   "source": [
    "import numpy as np\n",
    "import pandas as pd\n",
    "import matplotlib.pyplot as plt"
   ]
  },
  {
   "cell_type": "code",
   "execution_count": 13,
   "metadata": {},
   "outputs": [],
   "source": [
    "dataPath = \"../Lab 5 - Bag of Words/train_data.csv\"\n",
    "\n",
    "train_data_df= pd.read_csv(dataPath)"
   ]
  },
  {
   "cell_type": "code",
   "execution_count": 14,
   "metadata": {},
   "outputs": [],
   "source": [
    "X = train_data_df['text']\n",
    "y = train_data_df['label']"
   ]
  },
  {
   "cell_type": "code",
   "execution_count": 15,
   "metadata": {},
   "outputs": [],
   "source": [
    "label2id = {'Ireland': 0, 'England': 1,  'Scotland': 2}\n",
    "y = [label2id[label] for label in y]"
   ]
  },
  {
   "cell_type": "markdown",
   "metadata": {},
   "source": [
    "# Preprocesarea Datelor"
   ]
  },
  {
   "cell_type": "code",
   "execution_count": 16,
   "metadata": {},
   "outputs": [],
   "source": [
    "import re\n",
    "import nltk\n",
    "from nltk.corpus import stopwords\n",
    "from simplemma import lang_detector, lemmatize\n",
    "\n",
    "# nltk.download('stopwords')\n",
    "\n",
    "german_stopwords = stopwords.words('german')\n",
    "italian_stopwords = stopwords.words('italian')\n",
    "spanish_stopwords = stopwords.words('spanish')\n",
    "dutch_stopwords = stopwords.words('dutch')\n",
    "danish_stopwords = stopwords.words('danish')\n",
    "\n",
    "stop_words = {'de': german_stopwords, 'it': italian_stopwords, 'es': spanish_stopwords, 'nl': dutch_stopwords, 'da': danish_stopwords}\n"
   ]
  },
  {
   "cell_type": "code",
   "execution_count": 17,
   "metadata": {},
   "outputs": [],
   "source": [
    "lang2id = {'de': 'german', 'it': 'italian', 'es': 'spanish', 'nl': 'dutch', 'da': 'danish', 'unk': 'german'}"
   ]
  },
  {
   "cell_type": "code",
   "execution_count": 18,
   "metadata": {},
   "outputs": [],
   "source": [
    "def preprocesare_text(text):\n",
    "    \n",
    "    language = lang_detector(text, lang=('de', 'it', 'es', 'nl', 'da'))\n",
    "    if language[0][0] == 'unk':\n",
    "        print(text)\n",
    "    language = language[0][0]\n",
    "\n",
    "    # text = re.sub(r'\\d+', '', text) # Remove numbers\n",
    "    text = re.findall(r'\\w+', text) \n",
    "\n",
    "    text = [word for word in text if len(word) > 1]\n",
    "    text = [word for word in text if word not in stop_words[language]]\n",
    "\n",
    "    text = [lemmatize(word, language) for word in text]\n",
    "    # stemmer = nltk.stem.SnowballStemmer(lang2id[language])\n",
    "    # text = [stemmer.stem(word) for word in text]\n",
    "\n",
    "    text = ' '.join(text)\n",
    "    text = text.lower() # Lematizarea nu reuseste in germana pentru substantive lowercase\n",
    "\n",
    "    return text"
   ]
  },
  {
   "cell_type": "code",
   "execution_count": 19,
   "metadata": {},
   "outputs": [
    {
     "ename": "KeyboardInterrupt",
     "evalue": "",
     "output_type": "error",
     "traceback": [
      "\u001b[0;31m---------------------------------------------------------------------------\u001b[0m",
      "\u001b[0;31mKeyboardInterrupt\u001b[0m                         Traceback (most recent call last)",
      "Cell \u001b[0;32mIn [19], line 10\u001b[0m\n\u001b[1;32m      1\u001b[0m \u001b[39m# X_stop = [preprocesare_text(text) for text in X]\u001b[39;00m\n\u001b[1;32m      2\u001b[0m \u001b[39m# np.save('X_stop.npy', X_stop)\u001b[39;00m\n\u001b[1;32m      3\u001b[0m \n\u001b[0;32m   (...)\u001b[0m\n\u001b[1;32m      7\u001b[0m \u001b[39m# X_stop_digits_lemma = [preprocesare_text(text) for text in X]\u001b[39;00m\n\u001b[1;32m      8\u001b[0m \u001b[39m# np.save('X_stop_digits_lemma.npy', X_stop_digits_lemma)\u001b[39;00m\n\u001b[0;32m---> 10\u001b[0m X_stop_lemma \u001b[39m=\u001b[39m [preprocesare_text(text) \u001b[39mfor\u001b[39;00m text \u001b[39min\u001b[39;00m X]\n",
      "Cell \u001b[0;32mIn [19], line 10\u001b[0m, in \u001b[0;36m<listcomp>\u001b[0;34m(.0)\u001b[0m\n\u001b[1;32m      1\u001b[0m \u001b[39m# X_stop = [preprocesare_text(text) for text in X]\u001b[39;00m\n\u001b[1;32m      2\u001b[0m \u001b[39m# np.save('X_stop.npy', X_stop)\u001b[39;00m\n\u001b[1;32m      3\u001b[0m \n\u001b[0;32m   (...)\u001b[0m\n\u001b[1;32m      7\u001b[0m \u001b[39m# X_stop_digits_lemma = [preprocesare_text(text) for text in X]\u001b[39;00m\n\u001b[1;32m      8\u001b[0m \u001b[39m# np.save('X_stop_digits_lemma.npy', X_stop_digits_lemma)\u001b[39;00m\n\u001b[0;32m---> 10\u001b[0m X_stop_lemma \u001b[39m=\u001b[39m [preprocesare_text(text) \u001b[39mfor\u001b[39;00m text \u001b[39min\u001b[39;00m X]\n",
      "Cell \u001b[0;32mIn [18], line 3\u001b[0m, in \u001b[0;36mpreprocesare_text\u001b[0;34m(text)\u001b[0m\n\u001b[1;32m      1\u001b[0m \u001b[39mdef\u001b[39;00m \u001b[39mpreprocesare_text\u001b[39m(text):\n\u001b[0;32m----> 3\u001b[0m     language \u001b[39m=\u001b[39m lang_detector(text, lang\u001b[39m=\u001b[39;49m(\u001b[39m'\u001b[39;49m\u001b[39mde\u001b[39;49m\u001b[39m'\u001b[39;49m, \u001b[39m'\u001b[39;49m\u001b[39mit\u001b[39;49m\u001b[39m'\u001b[39;49m, \u001b[39m'\u001b[39;49m\u001b[39mes\u001b[39;49m\u001b[39m'\u001b[39;49m, \u001b[39m'\u001b[39;49m\u001b[39mnl\u001b[39;49m\u001b[39m'\u001b[39;49m, \u001b[39m'\u001b[39;49m\u001b[39mda\u001b[39;49m\u001b[39m'\u001b[39;49m))\n\u001b[1;32m      4\u001b[0m     \u001b[39mif\u001b[39;00m language[\u001b[39m0\u001b[39m][\u001b[39m0\u001b[39m] \u001b[39m==\u001b[39m \u001b[39m'\u001b[39m\u001b[39munk\u001b[39m\u001b[39m'\u001b[39m:\n\u001b[1;32m      5\u001b[0m         \u001b[39mprint\u001b[39m(text)\n",
      "File \u001b[0;32m/usr/local/lib/python3.10/site-packages/simplemma/langdetect.py:69\u001b[0m, in \u001b[0;36mlang_detector\u001b[0;34m(text, lang, extensive)\u001b[0m\n\u001b[1;32m     67\u001b[0m \u001b[39m\"\"\"Determine which proportion of the text is in the target language(s).\"\"\"\u001b[39;00m\n\u001b[1;32m     68\u001b[0m myresults \u001b[39m=\u001b[39m {}  \u001b[39m# Dict[str, float]\u001b[39;00m\n\u001b[0;32m---> 69\u001b[0m tokens \u001b[39m=\u001b[39m prepare_text(text)\n\u001b[1;32m     70\u001b[0m total_tokens \u001b[39m=\u001b[39m \u001b[39mlen\u001b[39m(tokens)\n\u001b[1;32m     71\u001b[0m \u001b[39mif\u001b[39;00m total_tokens \u001b[39m==\u001b[39m \u001b[39m0\u001b[39m:\n",
      "File \u001b[0;32m/usr/local/lib/python3.10/site-packages/simplemma/langdetect.py:28\u001b[0m, in \u001b[0;36mprepare_text\u001b[0;34m(text)\u001b[0m\n\u001b[1;32m     25\u001b[0m \u001b[39m\"\"\"Extract potential words, scramble them, extract the most frequent,\u001b[39;00m\n\u001b[1;32m     26\u001b[0m \u001b[39msome of the rest, and return at most 1000 tokens.\"\"\"\u001b[39;00m\n\u001b[1;32m     27\u001b[0m \u001b[39m# generator expression to split the text\u001b[39;00m\n\u001b[0;32m---> 28\u001b[0m counter \u001b[39m=\u001b[39m Counter(\n\u001b[1;32m     29\u001b[0m     \u001b[39mmatch\u001b[39;49;00m[\u001b[39m0\u001b[39;49m] \u001b[39mfor\u001b[39;49;00m match \u001b[39min\u001b[39;49;00m SPLIT_INPUT\u001b[39m.\u001b[39;49mfinditer(text) \u001b[39mif\u001b[39;49;00m \u001b[39mnot\u001b[39;49;00m match[\u001b[39m0\u001b[39;49m]\u001b[39m.\u001b[39;49misupper()\n\u001b[1;32m     30\u001b[0m )\n\u001b[1;32m     31\u001b[0m \u001b[39m# total = sum(counter.values())\u001b[39;00m\n\u001b[1;32m     32\u001b[0m \u001b[39m# if total > 100:\u001b[39;00m\n\u001b[1;32m     33\u001b[0m \u001b[39m#    # take about 10% of the tokens\u001b[39;00m\n\u001b[0;32m   (...)\u001b[0m\n\u001b[1;32m     37\u001b[0m \u001b[39m# most_frequent_short = [item[0] for item in counter.most_common(10)]\u001b[39;00m\n\u001b[1;32m     38\u001b[0m \u001b[39m# rest = [t for t in set(tokens) if len(t) > 4 and t not in most_frequent][:990]\u001b[39;00m\n\u001b[1;32m     39\u001b[0m \u001b[39mreturn\u001b[39;00m [item[\u001b[39m0\u001b[39m] \u001b[39mfor\u001b[39;00m item \u001b[39min\u001b[39;00m counter\u001b[39m.\u001b[39mmost_common(\u001b[39m1000\u001b[39m)]\n",
      "File \u001b[0;32m/usr/local/Cellar/python@3.10/3.10.8/Frameworks/Python.framework/Versions/3.10/lib/python3.10/collections/__init__.py:577\u001b[0m, in \u001b[0;36mCounter.__init__\u001b[0;34m(self, iterable, **kwds)\u001b[0m\n\u001b[1;32m    566\u001b[0m \u001b[39m'''Create a new, empty Counter object.  And if given, count elements\u001b[39;00m\n\u001b[1;32m    567\u001b[0m \u001b[39mfrom an input iterable.  Or, initialize the count from another mapping\u001b[39;00m\n\u001b[1;32m    568\u001b[0m \u001b[39mof elements to their counts.\u001b[39;00m\n\u001b[0;32m   (...)\u001b[0m\n\u001b[1;32m    574\u001b[0m \n\u001b[1;32m    575\u001b[0m \u001b[39m'''\u001b[39;00m\n\u001b[1;32m    576\u001b[0m \u001b[39msuper\u001b[39m()\u001b[39m.\u001b[39m\u001b[39m__init__\u001b[39m()\n\u001b[0;32m--> 577\u001b[0m \u001b[39mself\u001b[39;49m\u001b[39m.\u001b[39;49mupdate(iterable, \u001b[39m*\u001b[39;49m\u001b[39m*\u001b[39;49mkwds)\n",
      "File \u001b[0;32m/usr/local/Cellar/python@3.10/3.10.8/Frameworks/Python.framework/Versions/3.10/lib/python3.10/collections/__init__.py:670\u001b[0m, in \u001b[0;36mCounter.update\u001b[0;34m(self, iterable, **kwds)\u001b[0m\n\u001b[1;32m    668\u001b[0m             \u001b[39msuper\u001b[39m()\u001b[39m.\u001b[39mupdate(iterable)\n\u001b[1;32m    669\u001b[0m     \u001b[39melse\u001b[39;00m:\n\u001b[0;32m--> 670\u001b[0m         _count_elements(\u001b[39mself\u001b[39;49m, iterable)\n\u001b[1;32m    671\u001b[0m \u001b[39mif\u001b[39;00m kwds:\n\u001b[1;32m    672\u001b[0m     \u001b[39mself\u001b[39m\u001b[39m.\u001b[39mupdate(kwds)\n",
      "File \u001b[0;32m/usr/local/lib/python3.10/site-packages/simplemma/langdetect.py:29\u001b[0m, in \u001b[0;36m<genexpr>\u001b[0;34m(.0)\u001b[0m\n\u001b[1;32m     25\u001b[0m \u001b[39m\"\"\"Extract potential words, scramble them, extract the most frequent,\u001b[39;00m\n\u001b[1;32m     26\u001b[0m \u001b[39msome of the rest, and return at most 1000 tokens.\"\"\"\u001b[39;00m\n\u001b[1;32m     27\u001b[0m \u001b[39m# generator expression to split the text\u001b[39;00m\n\u001b[1;32m     28\u001b[0m counter \u001b[39m=\u001b[39m Counter(\n\u001b[0;32m---> 29\u001b[0m     \u001b[39mmatch\u001b[39;00m[\u001b[39m0\u001b[39m] \u001b[39mfor\u001b[39;00m match \u001b[39min\u001b[39;00m SPLIT_INPUT\u001b[39m.\u001b[39mfinditer(text) \u001b[39mif\u001b[39;00m \u001b[39mnot\u001b[39;00m match[\u001b[39m0\u001b[39;49m]\u001b[39m.\u001b[39;49misupper()\n\u001b[1;32m     30\u001b[0m )\n\u001b[1;32m     31\u001b[0m \u001b[39m# total = sum(counter.values())\u001b[39;00m\n\u001b[1;32m     32\u001b[0m \u001b[39m# if total > 100:\u001b[39;00m\n\u001b[1;32m     33\u001b[0m \u001b[39m#    # take about 10% of the tokens\u001b[39;00m\n\u001b[0;32m   (...)\u001b[0m\n\u001b[1;32m     37\u001b[0m \u001b[39m# most_frequent_short = [item[0] for item in counter.most_common(10)]\u001b[39;00m\n\u001b[1;32m     38\u001b[0m \u001b[39m# rest = [t for t in set(tokens) if len(t) > 4 and t not in most_frequent][:990]\u001b[39;00m\n\u001b[1;32m     39\u001b[0m \u001b[39mreturn\u001b[39;00m [item[\u001b[39m0\u001b[39m] \u001b[39mfor\u001b[39;00m item \u001b[39min\u001b[39;00m counter\u001b[39m.\u001b[39mmost_common(\u001b[39m1000\u001b[39m)]\n",
      "\u001b[0;31mKeyboardInterrupt\u001b[0m: "
     ]
    }
   ],
   "source": [
    "# X_stop = [preprocesare_text(text) for text in X]\n",
    "# np.save('X_stop.npy', X_stop)\n",
    "\n",
    "# X_stop_digits = [preprocesare_text(text) for text in X]\n",
    "# np.save('X_stop_digits.npy', X_stop_digit)\n",
    "\n",
    "# X_stop_digits_lemma = [preprocesare_text(text) for text in X]\n",
    "# np.save('X_stop_digits_lemma.npy', X_stop_digits_lemma)\n",
    "\n",
    "X_stop_lemma = [preprocesare_text(text) for text in X]\n",
    "# np.save('X_stop_lemma.npy', X_stop_lemma)\n",
    "\n",
    "\n",
    "# X_stop_stem = [preprocesare_text(text) for text in X]\n",
    "# np.save('X_stop_stem.npy', X_stop_stem)"
   ]
  },
  {
   "cell_type": "code",
   "execution_count": 20,
   "metadata": {},
   "outputs": [],
   "source": [
    "y = np.load('y.npy', allow_pickle=True)\n",
    "X_stop_lemma = np.load('X_stop_lemma.npy', allow_pickle=True)"
   ]
  },
  {
   "cell_type": "code",
   "execution_count": null,
   "metadata": {},
   "outputs": [
    {
     "name": "stdout",
     "output_type": "stream",
     "text": [
      "arabic danish dutch english finnish french german hungarian italian norwegian porter portuguese romanian russian spanish swedish\n"
     ]
    },
    {
     "data": {
      "text/plain": [
       "'erklar'"
      ]
     },
     "execution_count": 118,
     "metadata": {},
     "output_type": "execute_result"
    }
   ],
   "source": [
    "import nltk \n",
    "from nltk.stem.snowball import SnowballStemmer\n",
    "\n",
    "print(\" \".join(SnowballStemmer.languages))\n",
    "\n",
    "stemmer = SnowballStemmer(\"german\")\n",
    "stemmer.stem(\"Erklärung\")"
   ]
  },
  {
   "cell_type": "code",
   "execution_count": null,
   "metadata": {},
   "outputs": [
    {
     "data": {
      "text/plain": [
       "'leave'"
      ]
     },
     "execution_count": 150,
     "metadata": {},
     "output_type": "execute_result"
    }
   ],
   "source": [
    "lemmatize('Erklarungen', 'de')\n",
    "lemmatize('leaves', 'en')"
   ]
  },
  {
   "cell_type": "code",
   "execution_count": null,
   "metadata": {},
   "outputs": [
    {
     "name": "stdout",
     "output_type": "stream",
     "text": [
      "herr prasident entgeg rat parlament herrn radwan nam ppe de fraktion eingereicht anderungsantrag komitologi bericht angenomm in erklar aussprach gest abend kommission ansicht ander ausgehandelt vereinbar wahrheit unterlauf saboti das mag vielleicht sogar herrn radwan absicht weiss ander bezieht parlament angenomm entschliess annahm auflosungsklauseln delegier rechtsvorschrift vorsieht systemat rechtsakt gelt sektor finanzdienstleist verabschied ich mocht kommission jedoch dringend rat uberreaktion vermeid der angenomm anderungsantrag bedau betraf ledig ander erwag fruh diesbezug entschliess verweis wir bekraft parlament entschliess billig dies nuanc kommission lag versetz text akzepti davon auszugeh ausgehandelt vereinbar weiterhin gilt\n",
      "\n",
      "\n",
      "   – Herr Präsident! Entgegen meinem Rat hat das Parlament den von Herrn Radwan im Namen der PPE-DE-Fraktion eingereichten Änderungsantrag zu meinem Komitologie-Bericht angenommen.\n",
      "\n",
      "In ihrer Erklärung in der Aussprache gestern Abend war die Kommission der Ansicht, diese Änderung würde unsere ausgehandelten Vereinbarungen in Wahrheit unterlaufen und sabotieren. Das mag vielleicht sogar Herrn Radwans Absicht gewesen sein – ich weiß nicht –, aber die Änderung bezieht sich auf eine vom Parlament angenommene Entschließung, die die Annahme von Auflösungsklauseln bei der Delegierung von Rechtsvorschriften vorsieht, die systematisch für alle Rechtsakte gelten, die wir im Sektor Finanzdienstleistungen verabschieden.\n",
      "\n",
      "Ich möchte der Kommission jedoch dringend raten, Überreaktionen zu vermeiden. Der angenommene Änderungsantrag – so sehr ich ihn bedauere – betraf lediglich die Änderung einer Erwägung, in der wir auf eine frühere diesbezügliche Entschließung verweisen. Wir bekräftigen damit als Parlament nicht, dass wir die Entschließung billigen. Diese Nuance sollte die Kommission in die Lage versetzen, unseren Text zu akzeptieren und davon auszugehen, dass unsere ausgehandelte Vereinbarung weiterhin gilt. \n",
      "\n"
     ]
    }
   ],
   "source": [
    "print(X_stop_stem[9000])\n",
    "print(X.iloc[9000])"
   ]
  },
  {
   "cell_type": "code",
   "execution_count": null,
   "metadata": {},
   "outputs": [
    {
     "name": "stdout",
     "output_type": "stream",
     "text": [
      "fremragende initiativ støtter fuldt målet fremhæve idrættens pædagogiske rolle kan opnås store fordele ved etablere partnerskaber mellem undervisningssektorens idrættens organisationer irsk medlem specielt glad forslaget går dedikere 2004 idrættens pædagogiske dimension falder sammen irske formandskab første halvdel 2004 kan forsikre kolleger irland spille fremtrædende rolle planlagte initiativer irland lang tradition sport særligt amatør frivillig basis klar række store sportsbegivenheder løber stabelen 2004 afholdes em fodbold olympiske paraolympiske lege athen forslaget anses 2003 forberedende år visse aktiviteter indtræder akademiske år 2003 2004 irland vært special olympics 2003 eu bidrag organiseringen lege værd rose atleterne 160 internationale delegationer verden enestående sportslig kulturel begivenhed\n",
      "\n",
      "fremragende initiativ støtter fuldt målet fremhæve idrættens pædagogiske rolle kan opnås store fordele ved etablere partnerskaber mellem undervisningssektorens idrættens organisationer irsk medlem specielt glad forslaget går dedikere idrættens pædagogiske dimension falder sammen irske formandskab første halvdel kan forsikre kolleger irland spille fremtrædende rolle planlagte initiativer irland lang tradition sport særligt amatør frivillig basis klar række store sportsbegivenheder løber stabelen afholdes em fodbold olympiske paraolympiske lege athen forslaget anses forberedende år visse aktiviteter indtræder akademiske år irland vært special olympics eu bidrag organiseringen lege værd rose atleterne internationale delegationer verden enestående sportslig kulturel begivenhed\n",
      "\n",
      "denne fremragende initiativ støtte fuld mål fremhæve idræt pædagogisk rolle der kunne opnå stor fordel ved etablere partnerskab mellem undervisningssektor idræt organisation som irsk medlem speciel glad forslag gå dedikere idræt pædagogisk dimension det falde sammen irsk formandskab først halvdel kunne forsikre kolleger irland spille fremtræde rolle planlægge initiativ irland lange tradition sport særlig amatør frivillig basis vi klare række stor sportsbegivenhed løbe stabel der afholde em fodbold olympisk paraolympiske leg athen forslag anse forberede år visse aktivitet indtræde akademisk år irland vært special olympics eu bidrag organisering leg værd rose for atlet internationale delegation verden enestående sportslig kulturel begivenhed\n",
      "\n",
      "denne fremragende initiativ støtte fuld mål fremhæve idræt pædagogisk rolle der kunne opnå stor fordel ved etablere partnerskab mellem undervisningssektor idræt organisation som irsk medlem speciel glad forslag gå dedikere 2004 idræt pædagogisk dimension det falde sammen irsk formandskab først halvdel 2004 kunne forsikre kolleger irland spille fremtræde rolle planlægge initiativ irland lange tradition sport særlig amatør frivillig basis vi klare række stor sportsbegivenhed løbe stabel 2004 der afholde em fodbold olympisk paraolympiske leg athen forslag anse 2003 forberede år visse aktivitet indtræde akademisk år 2003 2004 irland vært special olympics 2003 eu bidrag organisering leg værd rose for atlet 160 internationale delegation verden enestående sportslig kulturel begivenhed\n",
      "\n",
      "det fremrag initiativ støt fuld mål fremhæv idræt pædagogisk rol der kan opnå stor fordel ved etabl partnerskab mellem undervisningssektor idræt organisation som irsk medlem specielt glad forslag går dedik 2004 idræt pædagogisk dimension det fald sam irsk formandskab først halvdel 2004 kan forsikr kolleg irland spil fremtræd rol planlag initiativ irland lang tradition sport sær amatør frivil basis vi klar ræk stor sportsbegiven løb stabel 2004 der afhold em fodbold olympisk paraolympisk leg ath forslag ans 2003 forbered år vis aktivitet indtræd akademisk år 2003 2004 irland vært special olympic 2003 eu bidrag organisering leg værd ros for atlet 160 international delegation verd enestå sports kulturel begiven\n"
     ]
    }
   ],
   "source": [
    "print(X_stop[0])\n",
    "print()\n",
    "print(X_stop_digits[0])\n",
    "print()\n",
    "print(X_stop_digits_lemma[0])\n",
    "print()\n",
    "print(X_stop_lemma[0])\n",
    "print()\n",
    "print(X_stop_stem[0])"
   ]
  },
  {
   "cell_type": "code",
   "execution_count": 21,
   "metadata": {},
   "outputs": [],
   "source": [
    "# split data\n",
    "from sklearn.model_selection import train_test_split\n",
    "\n",
    "X_train, X_test, y_train, y_test = train_test_split(X_stop_lemma, y, test_size=0.2, random_state=42)"
   ]
  },
  {
   "cell_type": "code",
   "execution_count": 22,
   "metadata": {},
   "outputs": [],
   "source": [
    "# Term Frequency-Inverse Document Frequency\n",
    "from sklearn.feature_extraction.text import TfidfVectorizer\n",
    "\n",
    "vectorizer = TfidfVectorizer(max_features = 100000)\n",
    "X_train = vectorizer.fit_transform(X_train)\n",
    "X_test = vectorizer.transform(X_test)"
   ]
  },
  {
   "cell_type": "code",
   "execution_count": 23,
   "metadata": {},
   "outputs": [
    {
     "name": "stdout",
     "output_type": "stream",
     "text": [
      "0.7122925186432524\n"
     ]
    },
    {
     "name": "stderr",
     "output_type": "stream",
     "text": [
      "/usr/local/lib/python3.10/site-packages/sklearn/linear_model/_logistic.py:444: ConvergenceWarning: lbfgs failed to converge (status=1):\n",
      "STOP: TOTAL NO. of ITERATIONS REACHED LIMIT.\n",
      "\n",
      "Increase the number of iterations (max_iter) or scale the data as shown in:\n",
      "    https://scikit-learn.org/stable/modules/preprocessing.html\n",
      "Please also refer to the documentation for alternative solver options:\n",
      "    https://scikit-learn.org/stable/modules/linear_model.html#logistic-regression\n",
      "  n_iter_i = _check_optimize_result(\n"
     ]
    }
   ],
   "source": [
    "# Logistic\n",
    "from sklearn.linear_model import LogisticRegression\n",
    "\n",
    "clf = LogisticRegression(random_state=0).fit(X_train, y_train)\n",
    "y_pred = clf.predict(X_test)\n",
    "\n",
    "from sklearn.metrics import accuracy_score\n",
    "\n",
    "print(accuracy_score(y_test, y_pred))\n"
   ]
  },
  {
   "cell_type": "code",
   "execution_count": 25,
   "metadata": {},
   "outputs": [
    {
     "name": "stdout",
     "output_type": "stream",
     "text": [
      "[[1081  929   99]\n",
      " [ 163 4212  132]\n",
      " [ 126  943  629]]\n"
     ]
    },
    {
     "data": {
      "image/png": "[encoded data removed]",
      "text/plain": [
       "<Figure size 1000x700 with 2 Axes>"
      ]
     },
     "metadata": {},
     "output_type": "display_data"
    }
   ],
   "source": [
    "#heatmap\n",
    "from sklearn.metrics import confusion_matrix\n",
    "import seaborn as sn\n",
    "\n",
    "cm = confusion_matrix(y_test, y_pred)\n",
    "df_cm = pd.DataFrame(cm, index = [i for i in label2id.keys()],\n",
    "columns = [i for i in label2id.keys()])\n",
    "plt.figure(figsize = (10,7))\n",
    "sn.heatmap(df_cm, annot=True)\n",
    "print(cm)\n",
    "\n",
    "\n"
   ]
  }
 ],
 "metadata": {
  "kernelspec": {
   "display_name": "Python 3.10.8 64-bit",
   "language": "python",
   "name": "python3"
  },
  "language_info": {
   "codemirror_mode": {
    "name": "ipython",
    "version": 3
   },
   "file_extension": ".py",
   "mimetype": "text/x-python",
   "name": "python",
   "nbconvert_exporter": "python",
   "pygments_lexer": "ipython3",
   "version": "3.10.8"
  },
  "orig_nbformat": 4,
  "vscode": {
   "interpreter": {
    "hash": "aee8b7b246df8f9039afb4144a1f6fd8d2ca17a180786b69acc140d282b71a49"
   }
  }
 },
 "nbformat": 4,
 "nbformat_minor": 2
}
